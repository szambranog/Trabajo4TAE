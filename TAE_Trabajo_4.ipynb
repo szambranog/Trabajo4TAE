{
  "cells": [
    {
      "cell_type": "code",
      "execution_count": null,
      "metadata": {
        "colab": {
          "base_uri": "https://localhost:8080/"
        },
        "id": "gBZ1VQG-sVlu",
        "outputId": "9f78cb8b-176f-4b9d-e6f8-d14540c407f7"
      },
      "outputs": [
        {
          "output_type": "stream",
          "name": "stdout",
          "text": [
            "Looking in indexes: https://pypi.org/simple, https://us-python.pkg.dev/colab-wheels/public/simple/\n",
            "Requirement already satisfied: holidays_co in /usr/local/lib/python3.7/dist-packages (1.0.0)\n"
          ]
        }
      ],
      "source": [
        "import pandas as pd\n",
        "import numpy as np\n",
        "import datetime as dt\n",
        "\n",
        "import numpy as np\n",
        "import pandas as pd\n",
        "import matplotlib.pyplot as plt\n",
        "import seaborn as sns\n",
        "import matplotlib.ticker as ticker\n",
        "\n",
        "from pydrive.auth import GoogleAuth\n",
        "from pydrive.drive import GoogleDrive\n",
        "from google.colab import auth, files\n",
        "from oauth2client.client import GoogleCredentials\n",
        "\n",
        "from sklearn.ensemble import RandomForestRegressor\n",
        "from sklearn import linear_model\n",
        "from sklearn.metrics import r2_score\n",
        "from keras.callbacks import ModelCheckpoint\n",
        "from keras.models import Sequential\n",
        "from keras.layers import Dense, Activation, Flatten\n",
        "\n",
        "!pip install holidays_co\n",
        "from holidays_co import is_holiday_date"
      ]
    },
    {
      "cell_type": "code",
      "execution_count": null,
      "metadata": {
        "id": "H4u-ZdmcsbMJ"
      },
      "outputs": [],
      "source": [
        "#Permisos para leer desde drive\n",
        "auth.authenticate_user()\n",
        "gauth = GoogleAuth()\n",
        "gauth.credentials = GoogleCredentials.get_application_default()\n",
        "drive = GoogleDrive(gauth)"
      ]
    },
    {
      "cell_type": "code",
      "execution_count": null,
      "metadata": {
        "colab": {
          "base_uri": "https://localhost:8080/",
          "height": 235
        },
        "id": "_NodtxtGshJt",
        "outputId": "14259776-e9bc-4429-87af-7985129fd217"
      },
      "outputs": [
        {
          "output_type": "error",
          "ename": "AttributeError",
          "evalue": "ignored",
          "traceback": [
            "\u001b[0;31m---------------------------------------------------------------------------\u001b[0m",
            "\u001b[0;31mAttributeError\u001b[0m                            Traceback (most recent call last)",
            "\u001b[0;32m<ipython-input-14-36ed5776f50e>\u001b[0m in \u001b[0;36m<module>\u001b[0;34m()\u001b[0m\n\u001b[1;32m      4\u001b[0m \u001b[0;31m# to get the id part of the file\u001b[0m\u001b[0;34m\u001b[0m\u001b[0;34m\u001b[0m\u001b[0;34m\u001b[0m\u001b[0m\n\u001b[1;32m      5\u001b[0m \u001b[0mid\u001b[0m \u001b[0;34m=\u001b[0m \u001b[0mcars\u001b[0m\u001b[0;34m.\u001b[0m\u001b[0msplit\u001b[0m\u001b[0;34m(\u001b[0m\u001b[0;34m\"/\"\u001b[0m\u001b[0;34m)\u001b[0m\u001b[0;34m[\u001b[0m\u001b[0;34m-\u001b[0m\u001b[0;36m2\u001b[0m\u001b[0;34m]\u001b[0m\u001b[0;34m\u001b[0m\u001b[0;34m\u001b[0m\u001b[0m\n\u001b[0;32m----> 6\u001b[0;31m \u001b[0mMiunidad\u001b[0m \u001b[0;34m=\u001b[0m \u001b[0mdrive\u001b[0m\u001b[0;34m.\u001b[0m\u001b[0mMiunidad\u001b[0m\u001b[0;34m(\u001b[0m\u001b[0;34m{\u001b[0m\u001b[0;34m'id'\u001b[0m\u001b[0;34m:\u001b[0m\u001b[0mid\u001b[0m\u001b[0;34m}\u001b[0m\u001b[0;34m)\u001b[0m\u001b[0;34m\u001b[0m\u001b[0;34m\u001b[0m\u001b[0m\n\u001b[0m\u001b[1;32m      7\u001b[0m \u001b[0mMiunidad\u001b[0m\u001b[0;34m.\u001b[0m\u001b[0mGetContentFile\u001b[0m\u001b[0;34m(\u001b[0m\u001b[0;34m'registros_autos_entrenamiento.xlsx'\u001b[0m\u001b[0;34m)\u001b[0m\u001b[0;34m\u001b[0m\u001b[0;34m\u001b[0m\u001b[0m\n\u001b[1;32m      8\u001b[0m \u001b[0mdf\u001b[0m \u001b[0;34m=\u001b[0m \u001b[0mpd\u001b[0m\u001b[0;34m.\u001b[0m\u001b[0mread_excel\u001b[0m\u001b[0;34m(\u001b[0m\u001b[0;34m'registros_autos_entrenamiento.xlsx'\u001b[0m\u001b[0;34m)\u001b[0m\u001b[0;34m\u001b[0m\u001b[0;34m\u001b[0m\u001b[0m\n",
            "\u001b[0;31mAttributeError\u001b[0m: 'GoogleDrive' object has no attribute 'Miunidad'"
          ]
        }
      ],
      "source": [
        "#Link del csv con nuestros datos\n",
        "cars = 'https://docs.google.com/spreadsheets/d/1JgK1Us7vudsKMsR5qpF3z2737ZQOdwgrd8Jdw79mAGs/edit'\n",
        " \n",
        "# to get the id part of the file\n",
        "id = cars.split(\"/\")[-2]\n",
        "Miunidad = drive.Miunidad({'id':id})\n",
        "Miunidad.GetContentFile('registros_autos_entrenamiento.xlsx') \n",
        "df = pd.read_excel('registros_autos_entrenamiento.xlsx')"
      ]
    },
    {
      "cell_type": "code",
      "execution_count": null,
      "metadata": {
        "id": "oqT12YJWskJk"
      },
      "outputs": [],
      "source": [
        "df"
      ]
    },
    {
      "cell_type": "markdown",
      "metadata": {
        "id": "ImWd2da7svu0"
      },
      "source": [
        " **Ingeniería de características**"
      ]
    },
    {
      "cell_type": "markdown",
      "metadata": {
        "id": "S95nl1NGswsQ"
      },
      "source": [
        "Como se puede apreciar, los datos leídos están compuestos por dos columnas: Fecha y Unidades.\n",
        "\n",
        "Fecha: fecha en la que se registraron cierta cantidad de autos en el RUNT.\n",
        "Unidades: cantidad de vehículos registrados en el RUNT.\n",
        "Estas fechas guardan información de forma implícita y, por medio de ingeniería de características, esa información será extraída."
      ]
    },
    {
      "cell_type": "markdown",
      "metadata": {
        "id": "UUduVqCds0dp"
      },
      "source": [
        "Se definen las funciones que permitirán extraer la información de las fechas.\n",
        "\n",
        "Get_day: devuelve el día del mes.\n",
        "Get_weekday: devuelve el día de la semana (Lunes, Martes, Miércoles, Jueves, Viernes, Sábado o Domingo).\n",
        "Get_year: devuelve el año.\n",
        "Get_month: devuelve el mes.\n",
        "Get_dayofyear: devuelve el día en el año.\n",
        "Get_weekofyear: devuelve la semana del año.\n",
        "Is_weekend: devuelve si es fin de semana o no.\n",
        "Is_startofmonth: devuelve si es el inicio del mes.\n",
        "Is_endofmonth: devuelve si es fin de mes.\n",
        "Is_startofyear: devuelve si es el inicio del año.\n",
        "Is_endofyear: devuelve si es fin de año.\n",
        "Estas funciones se aplican en una función mayor llamada \"database\", la cual construye la base de datos con base en la fecha para utilizarla en los modelos de predicción."
      ]
    },
    {
      "cell_type": "markdown",
      "metadata": {
        "id": "3NxLFmwss6oZ"
      },
      "source": [
        "Esta tabla define el valor para cada día de la semana.\n",
        "\n",
        "image.png"
      ]
    },
    {
      "cell_type": "code",
      "execution_count": null,
      "metadata": {
        "id": "Wq_VvKRqtBPs"
      },
      "outputs": [],
      "source": [
        "# function to get all data from time stamp\n",
        " \n",
        "# get date\n",
        "def get_day(dt):\n",
        "    return dt.day\n",
        " \n",
        "# get week day\n",
        "def get_weekday(dt):\n",
        "    return dt.weekday()\n",
        " \n",
        "# get year\n",
        "def get_year(dt):\n",
        "    return dt.year\n",
        " \n",
        "# get month\n",
        "def get_month(dt):\n",
        "    return dt.month\n",
        " \n",
        "# get year day\n",
        "def get_dayofyear(dt):\n",
        "    return dt.dayofyear\n",
        " \n",
        "# get year week\n",
        "def get_weekofyear(dt):\n",
        "    return dt.weekofyear\n",
        "\n",
        "# verify if its weekend\n",
        "def is_weekend(day):\n",
        "  return np.where(day in ([5,6]), 1,0)\n",
        "\n",
        "# verify if it's start of month\n",
        "def is_startofmonth(dt):\n",
        "  return 1 if dt.is_month_start else 0\n",
        "\n",
        "# verify if it's end of month\n",
        "def is_endofmonth(dt):\n",
        "  return 1 if dt.is_month_end else 0\n",
        "\n",
        "# verify if it's start of year\n",
        "def is_startofyear(dt):\n",
        "  return 1 if dt.is_year_start else 0\n",
        "\n",
        "# verify if it's end of year\n",
        "def is_endofyear(dt):\n",
        "  return 1 if dt.is_year_end else 0\n",
        "\n",
        "def database(df):\n",
        "  df['Fecha'] = df['Fecha'].map(pd.to_datetime)\n",
        "  df['Dia'] = df['Fecha'].map(get_day)\n",
        "  df['Dia_Semana'] = df['Fecha'].map(get_weekday)\n",
        "  df['Fin_Semana'] = df['Dia_Semana'].map(is_weekend)\n",
        "  df['Mes'] = df['Fecha'].map(get_month)\n",
        "  df['Inicio_Mes'] = df['Fecha'].map(is_startofmonth)\n",
        "  df['Fin_Mes'] = df['Fecha'].map(is_endofmonth)\n",
        "  df['Anio'] = df['Fecha'].map(get_year)\n",
        "  df['Inicio_Anio'] = df['Fecha'].map(is_startofyear)\n",
        "  df['Fin_Anio'] = df['Fecha'].map(is_endofyear)\n",
        "  df['Dia_Anio'] = df['Fecha'].map(get_dayofyear)\n",
        "  df['Semana_Anio'] = df['Fecha'].map(get_weekofyear)\n",
        "  df['Festivo'] = df.Fecha.apply(lambda fecha: 1 if is_holiday_date(fecha.date()) else 0)\n",
        "  return df\n",
        "\n",
        "database(df)"
      ]
    },
    {
      "cell_type": "code",
      "execution_count": null,
      "metadata": {
        "id": "CgJU1yHPtKH3"
      },
      "outputs": [],
      "source": [
        "df.head()"
      ]
    },
    {
      "cell_type": "code",
      "execution_count": null,
      "metadata": {
        "id": "RlPRAbsqtOwe"
      },
      "outputs": [],
      "source": [
        "inicio_2018 = dt.date(2018,1,1)\n",
        "fin_2018 = dt.date(2018,7,1)\n",
        "df_2018 = pd.DataFrame({'Fecha': pd.date_range(inicio_2018, fin_2018-dt.timedelta(days=1),freq='d')})\n",
        "df_2018 = database(df_2018)\n",
        "df_2018"
      ]
    },
    {
      "cell_type": "code",
      "execution_count": null,
      "metadata": {
        "id": "4JW4Br54tQ5B"
      },
      "outputs": [],
      "source": [
        "predict_2018 = df_2018.drop(['Fecha'], axis=1)\n",
        "predict_2018"
      ]
    },
    {
      "cell_type": "markdown",
      "metadata": {
        "id": "vIOOT-97tUwy"
      },
      "source": [
        "**División de base de datos entre entrenamiento y validación**"
      ]
    },
    {
      "cell_type": "markdown",
      "metadata": {
        "id": "P0UMfv5ZtXLx"
      },
      "source": [
        "Ahora, se extraen los datos a usar para entrenamiento y para validation.\n",
        "\n",
        "Training: desde 01/01/2012 hasta 31/12/2016.\n",
        "Validation: desde 01/01/2017 hasta 31/12/2017.\n",
        "Luego se separan las unidades para tener los valores objetivo con los que compararemos lso modelos."
      ]
    },
    {
      "cell_type": "code",
      "execution_count": null,
      "metadata": {
        "id": "KHUb0tuWtZoi"
      },
      "outputs": [],
      "source": [
        "df_training = df[df['Anio'] <= 2016].drop(['Fecha'], axis=1)\n",
        "training = df_training.drop(['Unidades'], axis=1)\n",
        "training_target = df_training['Unidades']\n",
        "print(training)\n",
        "training_target"
      ]
    },
    {
      "cell_type": "code",
      "execution_count": null,
      "metadata": {
        "id": "UuY_h3w5tcqY"
      },
      "outputs": [],
      "source": [
        "df_validation = df[df['Anio'] == 2017].drop(['Fecha'], axis=1)\n",
        "validation = df_validation.drop(['Unidades'], axis=1)\n",
        "validation_target = df_validation['Unidades']\n",
        "print(validation)\n",
        "validation_target"
      ]
    },
    {
      "cell_type": "code",
      "execution_count": null,
      "metadata": {
        "id": "om7QI0C4tvGa"
      },
      "outputs": [],
      "source": [
        "df_validation = df[df['Anio'] == 2017].drop(['Fecha'], axis=1)\n",
        "validation = df_validation.drop(['Unidades'], axis=1)\n",
        "validation_target = df_validation['Unidades']\n",
        "print(validation)\n",
        "validation_target"
      ]
    },
    {
      "cell_type": "markdown",
      "metadata": {
        "id": "V5H8e-qLtyER"
      },
      "source": [
        "**Modelo de predicción de número de vehículos registrados utilizando Bosques Aleatorios**"
      ]
    },
    {
      "cell_type": "markdown",
      "metadata": {
        "id": "Hklh8Gyst0Ed"
      },
      "source": [
        "El primer modelo a entrenar es el modelo de bosque aleatorio. Se entrena con los datos de entrenamiento y luego se hacen predicciones del training y validación para verificar la variación de R^2 entre entrenamiento y validación."
      ]
    },
    {
      "cell_type": "code",
      "execution_count": null,
      "metadata": {
        "id": "gEbPMHJ-t2Jz"
      },
      "outputs": [],
      "source": [
        "#defining the RandomForestRegressor\n",
        "RF_model=RandomForestRegressor()\n",
        " \n",
        "RF_model.fit(training,training_target)\n",
        "#testing\n",
        "y_predicted_rf = RF_model.predict(training)\n",
        "r2_training_rf = r2_score(training_target, y_predicted_rf)\n",
        "r2_training_rf"
      ]
    },
    {
      "cell_type": "code",
      "execution_count": null,
      "metadata": {
        "id": "I3M2Zrpjt4XI"
      },
      "outputs": [],
      "source": [
        "y_validation_rf = RF_model.predict(validation)\n",
        "r2_validation_rf = r2_score(validation_target, y_validation_rf)\n",
        "r2_validation_rf"
      ]
    },
    {
      "cell_type": "code",
      "execution_count": null,
      "metadata": {
        "id": "1Q1CunArt6ly"
      },
      "outputs": [],
      "source": [
        "r2_training_rf - r2_validation_rf"
      ]
    },
    {
      "cell_type": "markdown",
      "metadata": {
        "id": "n3DUtMWUt80U"
      },
      "source": [
        "Por último, se predicen las posibles unidades de vehículos registrados para el primer semestre del 2018."
      ]
    },
    {
      "cell_type": "code",
      "execution_count": null,
      "metadata": {
        "id": "p02fIuaWt-AM"
      },
      "outputs": [],
      "source": [
        "y_predicted_2018_rf = RF_model.predict(predict_2018)\n",
        "df_2018['Prediccion_RF'] = y_predicted_2018_rf\n",
        "df_2018"
      ]
    },
    {
      "cell_type": "markdown",
      "metadata": {
        "id": "AqeKVbz4uFrM"
      },
      "source": [
        "**Modelo de predicción de número de vehículos registrados utilizando Regresión Lineal**"
      ]
    },
    {
      "cell_type": "markdown",
      "metadata": {
        "id": "Cw7FVUsnuIMo"
      },
      "source": [
        "Ahora, se entrena un modelo de regresión lineal y se valida para después realizar las predicciones."
      ]
    },
    {
      "cell_type": "code",
      "execution_count": null,
      "metadata": {
        "id": "9KvwY0iQuJeK"
      },
      "outputs": [],
      "source": [
        "regr_model = linear_model.LinearRegression()\n",
        "regr_model.fit(training, training_target)\n",
        "y_predicted_r = regr_model.predict(training)\n",
        "r2_training_r = r2_score(training_target, y_predicted_r)\n",
        "r2_training_r"
      ]
    },
    {
      "cell_type": "code",
      "execution_count": null,
      "metadata": {
        "id": "Wbv3FDI7uNqM"
      },
      "outputs": [],
      "source": [
        "y_validation_r = regr_model.predict(validation)\n",
        "r2_validation_r = r2_score(validation_target, y_validation_r)\n",
        "r2_validation_r"
      ]
    },
    {
      "cell_type": "code",
      "execution_count": null,
      "metadata": {
        "id": "0sg-zN9luP7p"
      },
      "outputs": [],
      "source": [
        "r2_training_r - r2_validation_r"
      ]
    },
    {
      "cell_type": "markdown",
      "metadata": {
        "id": "9zDbNePKuX58"
      },
      "source": [
        "Por útlimo, se predicen las unidades de vehículos registrados para el 2018."
      ]
    },
    {
      "cell_type": "code",
      "execution_count": null,
      "metadata": {
        "id": "UhNWPskeuT8h"
      },
      "outputs": [],
      "source": [
        "y_predicted_2018_r = regr_model.predict(predict_2018)\n",
        "df_2018['Prediccion_R'] = y_predicted_2018_r\n",
        "df_2018"
      ]
    },
    {
      "cell_type": "markdown",
      "metadata": {
        "id": "OVyuaq2tufBS"
      },
      "source": [
        "**Modelo de predicción de número de vehículos registrados utilizando Regresión Logística**"
      ]
    },
    {
      "cell_type": "code",
      "execution_count": null,
      "metadata": {
        "id": "AI4mg9j1ug5n"
      },
      "outputs": [],
      "source": [
        "from sklearn.linear_model import LogisticRegression\n",
        "logreg = LogisticRegression()\n",
        "logreg.fit(df2, target)"
      ]
    },
    {
      "cell_type": "code",
      "execution_count": null,
      "metadata": {
        "id": "nx0jzroRujKw"
      },
      "outputs": [],
      "source": [
        "y_predicted_lr = logreg.predict(df2)\n",
        "y_predicted_lr"
      ]
    },
    {
      "cell_type": "code",
      "execution_count": null,
      "metadata": {
        "id": "c01R52vFulGF"
      },
      "outputs": [],
      "source": [
        "r2_score(target, y_predicted_lr)"
      ]
    },
    {
      "cell_type": "markdown",
      "metadata": {
        "id": "trTL-dELundu"
      },
      "source": [
        "**Modelo de predicción de número de vehículos registrados utilizando Regresión Lasso**"
      ]
    },
    {
      "cell_type": "markdown",
      "metadata": {
        "id": "iSrw7l5Wusgq"
      },
      "source": [
        "Ahora, se trabaja con el modelo de regresión Lasso. Se entrena y se predicen los valores de Training y Validation."
      ]
    },
    {
      "cell_type": "code",
      "execution_count": null,
      "metadata": {
        "id": "UmUBzFkyuodC"
      },
      "outputs": [],
      "source": [
        "lasso = linear_model.Lasso()\n",
        "lasso.fit(training, training_target)\n",
        "y_predicted_lasso = lasso.predict(training)\n",
        "r2_training_lasso = r2_score(training_target, y_predicted_lasso)\n",
        "r2_training_lasso"
      ]
    },
    {
      "cell_type": "code",
      "execution_count": null,
      "metadata": {
        "id": "34qx7c5buwiJ"
      },
      "outputs": [],
      "source": [
        "y_validation_lasso = lasso.predict(validation)\n",
        "r2_validation_lasso = r2_score(validation_target, y_validation_lasso)\n",
        "r2_validation_lasso"
      ]
    },
    {
      "cell_type": "code",
      "execution_count": null,
      "metadata": {
        "id": "TnbK51ZIuybZ"
      },
      "outputs": [],
      "source": [
        "r2_training_lasso - r2_validation_lasso"
      ]
    },
    {
      "cell_type": "markdown",
      "metadata": {
        "id": "D6sQoKihu0nZ"
      },
      "source": [
        "Por útlimo predecimos los valores para el 2018 con este modelo."
      ]
    },
    {
      "cell_type": "code",
      "execution_count": null,
      "metadata": {
        "id": "BC4pGgfZu2Vx"
      },
      "outputs": [],
      "source": [
        "y_predicted_2018_lasso = lasso.predict(predict_2018)\n",
        "df_2018['Prediccion_Lasso'] = y_predicted_2018_lasso\n",
        "df_2018"
      ]
    },
    {
      "cell_type": "markdown",
      "metadata": {
        "id": "_MKtMpscu4ou"
      },
      "source": [
        "**Modelo de predicción de número de vehículos registrados utilizando Redes Neuronales con Regresión como salida**"
      ]
    },
    {
      "cell_type": "code",
      "execution_count": null,
      "metadata": {
        "id": "_cFDtv6Fu6ez"
      },
      "outputs": [],
      "source": [
        "training.shape"
      ]
    },
    {
      "cell_type": "code",
      "execution_count": null,
      "metadata": {
        "id": "Hl40_wYpu8k3"
      },
      "outputs": [],
      "source": [
        "NN_model = Sequential()\n",
        "\n",
        "# The Input Layer :\n",
        "NN_model.add(Dense(128, kernel_initializer='normal',input_dim = training.shape[1], activation='relu'))\n",
        "\n",
        "# The Hidden Layers :\n",
        "NN_model.add(Dense(256, kernel_initializer='normal',activation='relu'))\n",
        "NN_model.add(Dense(256, kernel_initializer='normal',activation='relu'))\n",
        "NN_model.add(Dense(256, kernel_initializer='normal',activation='relu'))\n",
        "\n",
        "# The Output Layer :\n",
        "NN_model.add(Dense(1, kernel_initializer='normal',activation='linear'))\n",
        "\n",
        "# Compile the network :\n",
        "NN_model.compile(loss='mean_absolute_error', optimizer='adam', metrics=['mean_absolute_error'])\n",
        "NN_model.summary()"
      ]
    },
    {
      "cell_type": "code",
      "execution_count": null,
      "metadata": {
        "id": "oYnZv4S7u_oT"
      },
      "outputs": [],
      "source": [
        "checkpoint_name = 'Weights-{epoch:03d}--{val_loss:.5f}.hdf5' \n",
        "checkpoint = ModelCheckpoint(checkpoint_name, monitor='val_loss', verbose = 1, save_best_only = True, mode ='auto')\n",
        "callbacks_list = [checkpoint]"
      ]
    },
    {
      "cell_type": "code",
      "execution_count": null,
      "metadata": {
        "id": "kBGow6S3vDPK"
      },
      "outputs": [],
      "source": [
        "NN_model.fit(training, training_target, epochs=45, batch_size=32, validation_split = 0.2, callbacks=callbacks_list)"
      ]
    },
    {
      "cell_type": "code",
      "execution_count": null,
      "metadata": {
        "id": "2L7Gy2lnvGuR"
      },
      "outputs": [],
      "source": [
        "# Load wights file of the best model :\n",
        "wights_file = 'Weights-042--218.54323.hdf5' # choose the best checkpoint \n",
        "NN_model.load_weights(wights_file) # load it\n",
        "NN_model.compile(loss='mean_absolute_error', optimizer='adam', metrics=['mean_absolute_error'])"
      ]
    },
    {
      "cell_type": "code",
      "execution_count": null,
      "metadata": {
        "id": "8fQH0A6kvJBJ"
      },
      "outputs": [],
      "source": [
        "y_predicted_nn = NN_model.predict(training)\n",
        "r2_training_nn = r2_score(training_target, y_predicted_nn)\n",
        "r2_training_nn"
      ]
    },
    {
      "cell_type": "code",
      "execution_count": null,
      "metadata": {
        "id": "7jhO5kd8vK63"
      },
      "outputs": [],
      "source": [
        "y_validation_nn = NN_model.predict(validation)\n",
        "r2_validation_nn = r2_score(validation_target, y_validation_nn)\n",
        "r2_validation_nn"
      ]
    },
    {
      "cell_type": "code",
      "execution_count": null,
      "metadata": {
        "id": "CO3eZUWFvQHB"
      },
      "outputs": [],
      "source": [
        "r2_training_nn-r2_validation_nn"
      ]
    },
    {
      "cell_type": "code",
      "execution_count": null,
      "metadata": {
        "id": "Ob6zsi69vSBn"
      },
      "outputs": [],
      "source": [
        "y_predicted_2018_nn = NN_model.predict(predict_2018)\n",
        "df_2018['Prediccion_NN'] = y_predicted_2018_nn\n",
        "df_2018"
      ]
    },
    {
      "cell_type": "markdown",
      "metadata": {
        "id": "V6pNm7ZmvVBl"
      },
      "source": [
        "Otro"
      ]
    },
    {
      "cell_type": "code",
      "execution_count": null,
      "metadata": {
        "id": "oVdwIUJSvXWP"
      },
      "outputs": [],
      "source": [
        "df_2018[df_2018['Prediccion_R']<0]"
      ]
    },
    {
      "cell_type": "code",
      "execution_count": null,
      "metadata": {
        "id": "fcMJPzq0vaRH"
      },
      "outputs": [],
      "source": [
        "df_2018[df_2018['Prediccion_Lasso']<0]"
      ]
    },
    {
      "cell_type": "code",
      "execution_count": null,
      "metadata": {
        "id": "qZ42XGagvcpI"
      },
      "outputs": [],
      "source": [
        "df2012= (df['Fecha'] >= '2012-01-01') & (df['Fecha'] <= '2012-12-31')\n",
        "df2012=df.loc[df2012]\n",
        "df2012"
      ]
    },
    {
      "cell_type": "code",
      "execution_count": null,
      "metadata": {
        "id": "xSp3RYouvei2"
      },
      "outputs": [],
      "source": [
        "df2013= (df['Fecha'] >= '2013-01-01') & (df['Fecha'] <= '2013-12-31')\n",
        "df2013=df.loc[df2013]\n",
        "df2013"
      ]
    },
    {
      "cell_type": "code",
      "execution_count": null,
      "metadata": {
        "id": "oFEUX5l_vggC"
      },
      "outputs": [],
      "source": [
        "dftest= df.copy()"
      ]
    },
    {
      "cell_type": "code",
      "execution_count": null,
      "metadata": {
        "id": "sCnFJFK8viNr"
      },
      "outputs": [],
      "source": [
        "dftest"
      ]
    },
    {
      "cell_type": "code",
      "execution_count": null,
      "metadata": {
        "id": "LvxlqPpuvkoK"
      },
      "outputs": [],
      "source": [
        "import pandas as pd\n",
        "import seaborn as sns\n",
        "from calendar import month_name as mn\n",
        "\n",
        "# month list\n",
        "months = mn[1:]\n",
        "\n",
        "# convert the column to categorical and ordered\n",
        "dftest['Month_Name'] = pd.Categorical(dftest['Month_Name'], categories=months, ordered=True)\n",
        "\n",
        "# plot the data\n",
        "p = sns.relplot(kind='line', data=dftest, x='Month_Name', y='Unidades', hue='Month_Name', aspect=2.5, marker='o')"
      ]
    },
    {
      "cell_type": "code",
      "execution_count": null,
      "metadata": {
        "id": "O8MhK4gTvnjx"
      },
      "outputs": [],
      "source": [
        "sns.set_style('darkgrid')\n",
        "sns.set(rc={'figure.figsize':(14,8)})\n",
        "ax = sns.lineplot(data=df2012, x ='Month_Name', y = 'Unidades', palette='viridis')\n",
        "plt.show()"
      ]
    },
    {
      "cell_type": "code",
      "execution_count": null,
      "metadata": {
        "id": "mSkEQJDvvqkI"
      },
      "outputs": [],
      "source": [
        "sns.set_style('darkgrid')\n",
        "sns.set(rc={'figure.figsize':(14,8)})\n",
        "\n",
        "ax = sns.lineplot(data=df2013, x ='Month_Name', y = 'Unidades', palette='viridis',\n",
        "                  legend='full', lw=3)\n",
        "\n",
        "ax.xaxis.set_major_locator(ticker.MultipleLocator(4))\n",
        "plt.legend(bbox_to_anchor=(1, 1))\n",
        "plt.show()"
      ]
    }
  ],
  "metadata": {
    "colab": {
      "collapsed_sections": [],
      "name": "TAE Trabajo #4.ipynb",
      "provenance": []
    },
    "kernelspec": {
      "display_name": "Python 3",
      "name": "python3"
    },
    "language_info": {
      "name": "python"
    }
  },
  "nbformat": 4,
  "nbformat_minor": 0
}