{
  "cells": [
    {
      "cell_type": "markdown",
      "source": [
        "# Trabajo 4: Competencia de modelos de Predicción para el número de vehículos registrados\n",
        "\n",
        "Esteban Rojas Henao, Sergio Andrés Zambrano, Miguel Angel Rojas"
      ],
      "metadata": {
        "id": "E0LAPRXI-Zxc"
      }
    },
    {
      "cell_type": "code",
      "execution_count": 1,
      "metadata": {
        "id": "gBZ1VQG-sVlu"
      },
      "outputs": [],
      "source": [
        "import pandas as pd\n",
        "import numpy as np\n",
        "import datetime as dt\n",
        "import io\n",
        "\n",
        "from sklearn.ensemble import RandomForestRegressor\n",
        "from sklearn import linear_model\n",
        "from sklearn.metrics import r2_score\n",
        "from keras.callbacks import ModelCheckpoint\n",
        "from keras.models import Sequential\n",
        "from keras.layers import Dense, Activation, Flatten"
      ]
    },
    {
      "cell_type": "markdown",
      "source": [
        "# Lectura de datos"
      ],
      "metadata": {
        "id": "EL9iZpTsAAVx"
      }
    },
    {
      "cell_type": "code",
      "execution_count": 2,
      "metadata": {
        "colab": {
          "base_uri": "https://localhost:8080/",
          "height": 73,
          "resources": {
            "http://localhost:8080/nbextensions/google.colab/files.js": {
              "data": "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",
              "ok": true,
              "headers": [
                [
                  "content-type",
                  "application/javascript"
                ]
              ],
              "status": 200,
              "status_text": ""
            }
          }
        },
        "id": "_NodtxtGshJt",
        "outputId": "f6b0bd65-0644-4c6b-94fb-5e979612b6ec"
      },
      "outputs": [
        {
          "output_type": "display_data",
          "data": {
            "text/plain": [
              "<IPython.core.display.HTML object>"
            ],
            "text/html": [
              "\n",
              "     <input type=\"file\" id=\"files-0cdc8330-1327-47c7-af84-c556b0a0da60\" name=\"files[]\" multiple disabled\n",
              "        style=\"border:none\" />\n",
              "     <output id=\"result-0cdc8330-1327-47c7-af84-c556b0a0da60\">\n",
              "      Upload widget is only available when the cell has been executed in the\n",
              "      current browser session. Please rerun this cell to enable.\n",
              "      </output>\n",
              "      <script src=\"/nbextensions/google.colab/files.js\"></script> "
            ]
          },
          "metadata": {}
        },
        {
          "output_type": "stream",
          "name": "stdout",
          "text": [
            "Saving registros_autos_entrenamiento.xlsx to registros_autos_entrenamiento.xlsx\n"
          ]
        }
      ],
      "source": [
        "#Lectura del archivo\n",
        "from google.colab import files\n",
        "uploaded = files.upload()\n",
        "\n",
        " \n",
        "df = pd.read_excel(io.BytesIO(uploaded['registros_autos_entrenamiento.xlsx']))"
      ]
    },
    {
      "cell_type": "code",
      "execution_count": 3,
      "metadata": {
        "id": "oqT12YJWskJk",
        "colab": {
          "base_uri": "https://localhost:8080/",
          "height": 424
        },
        "outputId": "dbbf8545-1af7-4d24-986e-a4c5e3914f96"
      },
      "outputs": [
        {
          "output_type": "execute_result",
          "data": {
            "text/plain": [
              "          Fecha  Unidades\n",
              "0    2012-01-01       0.0\n",
              "1    2012-01-02     188.0\n",
              "2    2012-01-03     482.0\n",
              "3    2012-01-04     927.0\n",
              "4    2012-01-05    1159.0\n",
              "...         ...       ...\n",
              "2187 2017-12-27    2102.0\n",
              "2188 2017-12-28    3449.0\n",
              "2189 2017-12-29    1084.0\n",
              "2190 2017-12-30      18.0\n",
              "2191 2017-12-31       0.0\n",
              "\n",
              "[2192 rows x 2 columns]"
            ],
            "text/html": [
              "\n",
              "  <div id=\"df-1b4b6efb-5cca-4b8b-96c9-b70b9919142a\">\n",
              "    <div class=\"colab-df-container\">\n",
              "      <div>\n",
              "<style scoped>\n",
              "    .dataframe tbody tr th:only-of-type {\n",
              "        vertical-align: middle;\n",
              "    }\n",
              "\n",
              "    .dataframe tbody tr th {\n",
              "        vertical-align: top;\n",
              "    }\n",
              "\n",
              "    .dataframe thead th {\n",
              "        text-align: right;\n",
              "    }\n",
              "</style>\n",
              "<table border=\"1\" class=\"dataframe\">\n",
              "  <thead>\n",
              "    <tr style=\"text-align: right;\">\n",
              "      <th></th>\n",
              "      <th>Fecha</th>\n",
              "      <th>Unidades</th>\n",
              "    </tr>\n",
              "  </thead>\n",
              "  <tbody>\n",
              "    <tr>\n",
              "      <th>0</th>\n",
              "      <td>2012-01-01</td>\n",
              "      <td>0.0</td>\n",
              "    </tr>\n",
              "    <tr>\n",
              "      <th>1</th>\n",
              "      <td>2012-01-02</td>\n",
              "      <td>188.0</td>\n",
              "    </tr>\n",
              "    <tr>\n",
              "      <th>2</th>\n",
              "      <td>2012-01-03</td>\n",
              "      <td>482.0</td>\n",
              "    </tr>\n",
              "    <tr>\n",
              "      <th>3</th>\n",
              "      <td>2012-01-04</td>\n",
              "      <td>927.0</td>\n",
              "    </tr>\n",
              "    <tr>\n",
              "      <th>4</th>\n",
              "      <td>2012-01-05</td>\n",
              "      <td>1159.0</td>\n",
              "    </tr>\n",
              "    <tr>\n",
              "      <th>...</th>\n",
              "      <td>...</td>\n",
              "      <td>...</td>\n",
              "    </tr>\n",
              "    <tr>\n",
              "      <th>2187</th>\n",
              "      <td>2017-12-27</td>\n",
              "      <td>2102.0</td>\n",
              "    </tr>\n",
              "    <tr>\n",
              "      <th>2188</th>\n",
              "      <td>2017-12-28</td>\n",
              "      <td>3449.0</td>\n",
              "    </tr>\n",
              "    <tr>\n",
              "      <th>2189</th>\n",
              "      <td>2017-12-29</td>\n",
              "      <td>1084.0</td>\n",
              "    </tr>\n",
              "    <tr>\n",
              "      <th>2190</th>\n",
              "      <td>2017-12-30</td>\n",
              "      <td>18.0</td>\n",
              "    </tr>\n",
              "    <tr>\n",
              "      <th>2191</th>\n",
              "      <td>2017-12-31</td>\n",
              "      <td>0.0</td>\n",
              "    </tr>\n",
              "  </tbody>\n",
              "</table>\n",
              "<p>2192 rows × 2 columns</p>\n",
              "</div>\n",
              "      <button class=\"colab-df-convert\" onclick=\"convertToInteractive('df-1b4b6efb-5cca-4b8b-96c9-b70b9919142a')\"\n",
              "              title=\"Convert this dataframe to an interactive table.\"\n",
              "              style=\"display:none;\">\n",
              "        \n",
              "  <svg xmlns=\"http://www.w3.org/2000/svg\" height=\"24px\"viewBox=\"0 0 24 24\"\n",
              "       width=\"24px\">\n",
              "    <path d=\"M0 0h24v24H0V0z\" fill=\"none\"/>\n",
              "    <path d=\"M18.56 5.44l.94 2.06.94-2.06 2.06-.94-2.06-.94-.94-2.06-.94 2.06-2.06.94zm-11 1L8.5 8.5l.94-2.06 2.06-.94-2.06-.94L8.5 2.5l-.94 2.06-2.06.94zm10 10l.94 2.06.94-2.06 2.06-.94-2.06-.94-.94-2.06-.94 2.06-2.06.94z\"/><path d=\"M17.41 7.96l-1.37-1.37c-.4-.4-.92-.59-1.43-.59-.52 0-1.04.2-1.43.59L10.3 9.45l-7.72 7.72c-.78.78-.78 2.05 0 2.83L4 21.41c.39.39.9.59 1.41.59.51 0 1.02-.2 1.41-.59l7.78-7.78 2.81-2.81c.8-.78.8-2.07 0-2.86zM5.41 20L4 18.59l7.72-7.72 1.47 1.35L5.41 20z\"/>\n",
              "  </svg>\n",
              "      </button>\n",
              "      \n",
              "  <style>\n",
              "    .colab-df-container {\n",
              "      display:flex;\n",
              "      flex-wrap:wrap;\n",
              "      gap: 12px;\n",
              "    }\n",
              "\n",
              "    .colab-df-convert {\n",
              "      background-color: #E8F0FE;\n",
              "      border: none;\n",
              "      border-radius: 50%;\n",
              "      cursor: pointer;\n",
              "      display: none;\n",
              "      fill: #1967D2;\n",
              "      height: 32px;\n",
              "      padding: 0 0 0 0;\n",
              "      width: 32px;\n",
              "    }\n",
              "\n",
              "    .colab-df-convert:hover {\n",
              "      background-color: #E2EBFA;\n",
              "      box-shadow: 0px 1px 2px rgba(60, 64, 67, 0.3), 0px 1px 3px 1px rgba(60, 64, 67, 0.15);\n",
              "      fill: #174EA6;\n",
              "    }\n",
              "\n",
              "    [theme=dark] .colab-df-convert {\n",
              "      background-color: #3B4455;\n",
              "      fill: #D2E3FC;\n",
              "    }\n",
              "\n",
              "    [theme=dark] .colab-df-convert:hover {\n",
              "      background-color: #434B5C;\n",
              "      box-shadow: 0px 1px 3px 1px rgba(0, 0, 0, 0.15);\n",
              "      filter: drop-shadow(0px 1px 2px rgba(0, 0, 0, 0.3));\n",
              "      fill: #FFFFFF;\n",
              "    }\n",
              "  </style>\n",
              "\n",
              "      <script>\n",
              "        const buttonEl =\n",
              "          document.querySelector('#df-1b4b6efb-5cca-4b8b-96c9-b70b9919142a button.colab-df-convert');\n",
              "        buttonEl.style.display =\n",
              "          google.colab.kernel.accessAllowed ? 'block' : 'none';\n",
              "\n",
              "        async function convertToInteractive(key) {\n",
              "          const element = document.querySelector('#df-1b4b6efb-5cca-4b8b-96c9-b70b9919142a');\n",
              "          const dataTable =\n",
              "            await google.colab.kernel.invokeFunction('convertToInteractive',\n",
              "                                                     [key], {});\n",
              "          if (!dataTable) return;\n",
              "\n",
              "          const docLinkHtml = 'Like what you see? Visit the ' +\n",
              "            '<a target=\"_blank\" href=https://colab.research.google.com/notebooks/data_table.ipynb>data table notebook</a>'\n",
              "            + ' to learn more about interactive tables.';\n",
              "          element.innerHTML = '';\n",
              "          dataTable['output_type'] = 'display_data';\n",
              "          await google.colab.output.renderOutput(dataTable, element);\n",
              "          const docLink = document.createElement('div');\n",
              "          docLink.innerHTML = docLinkHtml;\n",
              "          element.appendChild(docLink);\n",
              "        }\n",
              "      </script>\n",
              "    </div>\n",
              "  </div>\n",
              "  "
            ]
          },
          "metadata": {},
          "execution_count": 3
        }
      ],
      "source": [
        "df"
      ]
    },
    {
      "cell_type": "markdown",
      "metadata": {
        "id": "ImWd2da7svu0"
      },
      "source": [
        "# Características"
      ]
    },
    {
      "cell_type": "markdown",
      "metadata": {
        "id": "S95nl1NGswsQ"
      },
      "source": [
        "Los datos leídos están compuestos por dos columnas: Fecha y Unidades.\n",
        "\n",
        "Fecha: fecha en la que se registraron cierta cantidad de autos en el RUNT.\n",
        "\n",
        "Unidades: cantidad de vehículos registrados en el Registro Único Nacional de Tránsito (RUNT).\n",
        "\n",
        "\n",
        "Como se necesita hacer filtros por años, se saca otra columna con la funcion get_year que devuelve el año,tambien para dia (get_day) y mes (get_month).\n"
      ]
    },
    {
      "cell_type": "code",
      "execution_count": 4,
      "metadata": {
        "id": "Wq_VvKRqtBPs",
        "colab": {
          "base_uri": "https://localhost:8080/",
          "height": 424
        },
        "outputId": "2f688006-022b-46cb-d96a-728d8d09906a"
      },
      "outputs": [
        {
          "output_type": "execute_result",
          "data": {
            "text/plain": [
              "          Fecha  Unidades  Dia  Mes  Year\n",
              "0    2012-01-01       0.0    1    1  2012\n",
              "1    2012-01-02     188.0    2    1  2012\n",
              "2    2012-01-03     482.0    3    1  2012\n",
              "3    2012-01-04     927.0    4    1  2012\n",
              "4    2012-01-05    1159.0    5    1  2012\n",
              "...         ...       ...  ...  ...   ...\n",
              "2187 2017-12-27    2102.0   27   12  2017\n",
              "2188 2017-12-28    3449.0   28   12  2017\n",
              "2189 2017-12-29    1084.0   29   12  2017\n",
              "2190 2017-12-30      18.0   30   12  2017\n",
              "2191 2017-12-31       0.0   31   12  2017\n",
              "\n",
              "[2192 rows x 5 columns]"
            ],
            "text/html": [
              "\n",
              "  <div id=\"df-121732a2-59e5-42e3-957f-c643180e2943\">\n",
              "    <div class=\"colab-df-container\">\n",
              "      <div>\n",
              "<style scoped>\n",
              "    .dataframe tbody tr th:only-of-type {\n",
              "        vertical-align: middle;\n",
              "    }\n",
              "\n",
              "    .dataframe tbody tr th {\n",
              "        vertical-align: top;\n",
              "    }\n",
              "\n",
              "    .dataframe thead th {\n",
              "        text-align: right;\n",
              "    }\n",
              "</style>\n",
              "<table border=\"1\" class=\"dataframe\">\n",
              "  <thead>\n",
              "    <tr style=\"text-align: right;\">\n",
              "      <th></th>\n",
              "      <th>Fecha</th>\n",
              "      <th>Unidades</th>\n",
              "      <th>Dia</th>\n",
              "      <th>Mes</th>\n",
              "      <th>Year</th>\n",
              "    </tr>\n",
              "  </thead>\n",
              "  <tbody>\n",
              "    <tr>\n",
              "      <th>0</th>\n",
              "      <td>2012-01-01</td>\n",
              "      <td>0.0</td>\n",
              "      <td>1</td>\n",
              "      <td>1</td>\n",
              "      <td>2012</td>\n",
              "    </tr>\n",
              "    <tr>\n",
              "      <th>1</th>\n",
              "      <td>2012-01-02</td>\n",
              "      <td>188.0</td>\n",
              "      <td>2</td>\n",
              "      <td>1</td>\n",
              "      <td>2012</td>\n",
              "    </tr>\n",
              "    <tr>\n",
              "      <th>2</th>\n",
              "      <td>2012-01-03</td>\n",
              "      <td>482.0</td>\n",
              "      <td>3</td>\n",
              "      <td>1</td>\n",
              "      <td>2012</td>\n",
              "    </tr>\n",
              "    <tr>\n",
              "      <th>3</th>\n",
              "      <td>2012-01-04</td>\n",
              "      <td>927.0</td>\n",
              "      <td>4</td>\n",
              "      <td>1</td>\n",
              "      <td>2012</td>\n",
              "    </tr>\n",
              "    <tr>\n",
              "      <th>4</th>\n",
              "      <td>2012-01-05</td>\n",
              "      <td>1159.0</td>\n",
              "      <td>5</td>\n",
              "      <td>1</td>\n",
              "      <td>2012</td>\n",
              "    </tr>\n",
              "    <tr>\n",
              "      <th>...</th>\n",
              "      <td>...</td>\n",
              "      <td>...</td>\n",
              "      <td>...</td>\n",
              "      <td>...</td>\n",
              "      <td>...</td>\n",
              "    </tr>\n",
              "    <tr>\n",
              "      <th>2187</th>\n",
              "      <td>2017-12-27</td>\n",
              "      <td>2102.0</td>\n",
              "      <td>27</td>\n",
              "      <td>12</td>\n",
              "      <td>2017</td>\n",
              "    </tr>\n",
              "    <tr>\n",
              "      <th>2188</th>\n",
              "      <td>2017-12-28</td>\n",
              "      <td>3449.0</td>\n",
              "      <td>28</td>\n",
              "      <td>12</td>\n",
              "      <td>2017</td>\n",
              "    </tr>\n",
              "    <tr>\n",
              "      <th>2189</th>\n",
              "      <td>2017-12-29</td>\n",
              "      <td>1084.0</td>\n",
              "      <td>29</td>\n",
              "      <td>12</td>\n",
              "      <td>2017</td>\n",
              "    </tr>\n",
              "    <tr>\n",
              "      <th>2190</th>\n",
              "      <td>2017-12-30</td>\n",
              "      <td>18.0</td>\n",
              "      <td>30</td>\n",
              "      <td>12</td>\n",
              "      <td>2017</td>\n",
              "    </tr>\n",
              "    <tr>\n",
              "      <th>2191</th>\n",
              "      <td>2017-12-31</td>\n",
              "      <td>0.0</td>\n",
              "      <td>31</td>\n",
              "      <td>12</td>\n",
              "      <td>2017</td>\n",
              "    </tr>\n",
              "  </tbody>\n",
              "</table>\n",
              "<p>2192 rows × 5 columns</p>\n",
              "</div>\n",
              "      <button class=\"colab-df-convert\" onclick=\"convertToInteractive('df-121732a2-59e5-42e3-957f-c643180e2943')\"\n",
              "              title=\"Convert this dataframe to an interactive table.\"\n",
              "              style=\"display:none;\">\n",
              "        \n",
              "  <svg xmlns=\"http://www.w3.org/2000/svg\" height=\"24px\"viewBox=\"0 0 24 24\"\n",
              "       width=\"24px\">\n",
              "    <path d=\"M0 0h24v24H0V0z\" fill=\"none\"/>\n",
              "    <path d=\"M18.56 5.44l.94 2.06.94-2.06 2.06-.94-2.06-.94-.94-2.06-.94 2.06-2.06.94zm-11 1L8.5 8.5l.94-2.06 2.06-.94-2.06-.94L8.5 2.5l-.94 2.06-2.06.94zm10 10l.94 2.06.94-2.06 2.06-.94-2.06-.94-.94-2.06-.94 2.06-2.06.94z\"/><path d=\"M17.41 7.96l-1.37-1.37c-.4-.4-.92-.59-1.43-.59-.52 0-1.04.2-1.43.59L10.3 9.45l-7.72 7.72c-.78.78-.78 2.05 0 2.83L4 21.41c.39.39.9.59 1.41.59.51 0 1.02-.2 1.41-.59l7.78-7.78 2.81-2.81c.8-.78.8-2.07 0-2.86zM5.41 20L4 18.59l7.72-7.72 1.47 1.35L5.41 20z\"/>\n",
              "  </svg>\n",
              "      </button>\n",
              "      \n",
              "  <style>\n",
              "    .colab-df-container {\n",
              "      display:flex;\n",
              "      flex-wrap:wrap;\n",
              "      gap: 12px;\n",
              "    }\n",
              "\n",
              "    .colab-df-convert {\n",
              "      background-color: #E8F0FE;\n",
              "      border: none;\n",
              "      border-radius: 50%;\n",
              "      cursor: pointer;\n",
              "      display: none;\n",
              "      fill: #1967D2;\n",
              "      height: 32px;\n",
              "      padding: 0 0 0 0;\n",
              "      width: 32px;\n",
              "    }\n",
              "\n",
              "    .colab-df-convert:hover {\n",
              "      background-color: #E2EBFA;\n",
              "      box-shadow: 0px 1px 2px rgba(60, 64, 67, 0.3), 0px 1px 3px 1px rgba(60, 64, 67, 0.15);\n",
              "      fill: #174EA6;\n",
              "    }\n",
              "\n",
              "    [theme=dark] .colab-df-convert {\n",
              "      background-color: #3B4455;\n",
              "      fill: #D2E3FC;\n",
              "    }\n",
              "\n",
              "    [theme=dark] .colab-df-convert:hover {\n",
              "      background-color: #434B5C;\n",
              "      box-shadow: 0px 1px 3px 1px rgba(0, 0, 0, 0.15);\n",
              "      filter: drop-shadow(0px 1px 2px rgba(0, 0, 0, 0.3));\n",
              "      fill: #FFFFFF;\n",
              "    }\n",
              "  </style>\n",
              "\n",
              "      <script>\n",
              "        const buttonEl =\n",
              "          document.querySelector('#df-121732a2-59e5-42e3-957f-c643180e2943 button.colab-df-convert');\n",
              "        buttonEl.style.display =\n",
              "          google.colab.kernel.accessAllowed ? 'block' : 'none';\n",
              "\n",
              "        async function convertToInteractive(key) {\n",
              "          const element = document.querySelector('#df-121732a2-59e5-42e3-957f-c643180e2943');\n",
              "          const dataTable =\n",
              "            await google.colab.kernel.invokeFunction('convertToInteractive',\n",
              "                                                     [key], {});\n",
              "          if (!dataTable) return;\n",
              "\n",
              "          const docLinkHtml = 'Like what you see? Visit the ' +\n",
              "            '<a target=\"_blank\" href=https://colab.research.google.com/notebooks/data_table.ipynb>data table notebook</a>'\n",
              "            + ' to learn more about interactive tables.';\n",
              "          element.innerHTML = '';\n",
              "          dataTable['output_type'] = 'display_data';\n",
              "          await google.colab.output.renderOutput(dataTable, element);\n",
              "          const docLink = document.createElement('div');\n",
              "          docLink.innerHTML = docLinkHtml;\n",
              "          element.appendChild(docLink);\n",
              "        }\n",
              "      </script>\n",
              "    </div>\n",
              "  </div>\n",
              "  "
            ]
          },
          "metadata": {},
          "execution_count": 4
        }
      ],
      "source": [
        "def get_day(dt):\n",
        "    return dt.day\n",
        "\n",
        "def get_month(dt):\n",
        "    return dt.month\n",
        " \n",
        "def get_year(dt):\n",
        "    return dt.year\n",
        " \n",
        "def database(df):\n",
        "  df['Fecha'] = df['Fecha'].map(pd.to_datetime)\n",
        "  df['Dia'] = df['Fecha'].map(get_day)\n",
        "  df['Mes'] = df['Fecha'].map(get_month)\n",
        "  df['Year'] = df['Fecha'].map(get_year)\n",
        "  return df\n",
        "\n",
        "database(df)"
      ]
    },
    {
      "cell_type": "code",
      "execution_count": 5,
      "metadata": {
        "id": "CgJU1yHPtKH3",
        "colab": {
          "base_uri": "https://localhost:8080/",
          "height": 206
        },
        "outputId": "aba07d0e-27c8-454e-96e3-d77b2a8dac33"
      },
      "outputs": [
        {
          "output_type": "execute_result",
          "data": {
            "text/plain": [
              "       Fecha  Unidades  Dia  Mes  Year\n",
              "0 2012-01-01       0.0    1    1  2012\n",
              "1 2012-01-02     188.0    2    1  2012\n",
              "2 2012-01-03     482.0    3    1  2012\n",
              "3 2012-01-04     927.0    4    1  2012\n",
              "4 2012-01-05    1159.0    5    1  2012"
            ],
            "text/html": [
              "\n",
              "  <div id=\"df-4123bfb2-eaf1-4c3f-a5d7-060f2ab5d389\">\n",
              "    <div class=\"colab-df-container\">\n",
              "      <div>\n",
              "<style scoped>\n",
              "    .dataframe tbody tr th:only-of-type {\n",
              "        vertical-align: middle;\n",
              "    }\n",
              "\n",
              "    .dataframe tbody tr th {\n",
              "        vertical-align: top;\n",
              "    }\n",
              "\n",
              "    .dataframe thead th {\n",
              "        text-align: right;\n",
              "    }\n",
              "</style>\n",
              "<table border=\"1\" class=\"dataframe\">\n",
              "  <thead>\n",
              "    <tr style=\"text-align: right;\">\n",
              "      <th></th>\n",
              "      <th>Fecha</th>\n",
              "      <th>Unidades</th>\n",
              "      <th>Dia</th>\n",
              "      <th>Mes</th>\n",
              "      <th>Year</th>\n",
              "    </tr>\n",
              "  </thead>\n",
              "  <tbody>\n",
              "    <tr>\n",
              "      <th>0</th>\n",
              "      <td>2012-01-01</td>\n",
              "      <td>0.0</td>\n",
              "      <td>1</td>\n",
              "      <td>1</td>\n",
              "      <td>2012</td>\n",
              "    </tr>\n",
              "    <tr>\n",
              "      <th>1</th>\n",
              "      <td>2012-01-02</td>\n",
              "      <td>188.0</td>\n",
              "      <td>2</td>\n",
              "      <td>1</td>\n",
              "      <td>2012</td>\n",
              "    </tr>\n",
              "    <tr>\n",
              "      <th>2</th>\n",
              "      <td>2012-01-03</td>\n",
              "      <td>482.0</td>\n",
              "      <td>3</td>\n",
              "      <td>1</td>\n",
              "      <td>2012</td>\n",
              "    </tr>\n",
              "    <tr>\n",
              "      <th>3</th>\n",
              "      <td>2012-01-04</td>\n",
              "      <td>927.0</td>\n",
              "      <td>4</td>\n",
              "      <td>1</td>\n",
              "      <td>2012</td>\n",
              "    </tr>\n",
              "    <tr>\n",
              "      <th>4</th>\n",
              "      <td>2012-01-05</td>\n",
              "      <td>1159.0</td>\n",
              "      <td>5</td>\n",
              "      <td>1</td>\n",
              "      <td>2012</td>\n",
              "    </tr>\n",
              "  </tbody>\n",
              "</table>\n",
              "</div>\n",
              "      <button class=\"colab-df-convert\" onclick=\"convertToInteractive('df-4123bfb2-eaf1-4c3f-a5d7-060f2ab5d389')\"\n",
              "              title=\"Convert this dataframe to an interactive table.\"\n",
              "              style=\"display:none;\">\n",
              "        \n",
              "  <svg xmlns=\"http://www.w3.org/2000/svg\" height=\"24px\"viewBox=\"0 0 24 24\"\n",
              "       width=\"24px\">\n",
              "    <path d=\"M0 0h24v24H0V0z\" fill=\"none\"/>\n",
              "    <path d=\"M18.56 5.44l.94 2.06.94-2.06 2.06-.94-2.06-.94-.94-2.06-.94 2.06-2.06.94zm-11 1L8.5 8.5l.94-2.06 2.06-.94-2.06-.94L8.5 2.5l-.94 2.06-2.06.94zm10 10l.94 2.06.94-2.06 2.06-.94-2.06-.94-.94-2.06-.94 2.06-2.06.94z\"/><path d=\"M17.41 7.96l-1.37-1.37c-.4-.4-.92-.59-1.43-.59-.52 0-1.04.2-1.43.59L10.3 9.45l-7.72 7.72c-.78.78-.78 2.05 0 2.83L4 21.41c.39.39.9.59 1.41.59.51 0 1.02-.2 1.41-.59l7.78-7.78 2.81-2.81c.8-.78.8-2.07 0-2.86zM5.41 20L4 18.59l7.72-7.72 1.47 1.35L5.41 20z\"/>\n",
              "  </svg>\n",
              "      </button>\n",
              "      \n",
              "  <style>\n",
              "    .colab-df-container {\n",
              "      display:flex;\n",
              "      flex-wrap:wrap;\n",
              "      gap: 12px;\n",
              "    }\n",
              "\n",
              "    .colab-df-convert {\n",
              "      background-color: #E8F0FE;\n",
              "      border: none;\n",
              "      border-radius: 50%;\n",
              "      cursor: pointer;\n",
              "      display: none;\n",
              "      fill: #1967D2;\n",
              "      height: 32px;\n",
              "      padding: 0 0 0 0;\n",
              "      width: 32px;\n",
              "    }\n",
              "\n",
              "    .colab-df-convert:hover {\n",
              "      background-color: #E2EBFA;\n",
              "      box-shadow: 0px 1px 2px rgba(60, 64, 67, 0.3), 0px 1px 3px 1px rgba(60, 64, 67, 0.15);\n",
              "      fill: #174EA6;\n",
              "    }\n",
              "\n",
              "    [theme=dark] .colab-df-convert {\n",
              "      background-color: #3B4455;\n",
              "      fill: #D2E3FC;\n",
              "    }\n",
              "\n",
              "    [theme=dark] .colab-df-convert:hover {\n",
              "      background-color: #434B5C;\n",
              "      box-shadow: 0px 1px 3px 1px rgba(0, 0, 0, 0.15);\n",
              "      filter: drop-shadow(0px 1px 2px rgba(0, 0, 0, 0.3));\n",
              "      fill: #FFFFFF;\n",
              "    }\n",
              "  </style>\n",
              "\n",
              "      <script>\n",
              "        const buttonEl =\n",
              "          document.querySelector('#df-4123bfb2-eaf1-4c3f-a5d7-060f2ab5d389 button.colab-df-convert');\n",
              "        buttonEl.style.display =\n",
              "          google.colab.kernel.accessAllowed ? 'block' : 'none';\n",
              "\n",
              "        async function convertToInteractive(key) {\n",
              "          const element = document.querySelector('#df-4123bfb2-eaf1-4c3f-a5d7-060f2ab5d389');\n",
              "          const dataTable =\n",
              "            await google.colab.kernel.invokeFunction('convertToInteractive',\n",
              "                                                     [key], {});\n",
              "          if (!dataTable) return;\n",
              "\n",
              "          const docLinkHtml = 'Like what you see? Visit the ' +\n",
              "            '<a target=\"_blank\" href=https://colab.research.google.com/notebooks/data_table.ipynb>data table notebook</a>'\n",
              "            + ' to learn more about interactive tables.';\n",
              "          element.innerHTML = '';\n",
              "          dataTable['output_type'] = 'display_data';\n",
              "          await google.colab.output.renderOutput(dataTable, element);\n",
              "          const docLink = document.createElement('div');\n",
              "          docLink.innerHTML = docLinkHtml;\n",
              "          element.appendChild(docLink);\n",
              "        }\n",
              "      </script>\n",
              "    </div>\n",
              "  </div>\n",
              "  "
            ]
          },
          "metadata": {},
          "execution_count": 5
        }
      ],
      "source": [
        "df.head()"
      ]
    },
    {
      "cell_type": "markdown",
      "source": [
        "Para las predicciones de los días comprendidos entre el 01/01/2012 y el 31/12/2017."
      ],
      "metadata": {
        "id": "lsENx-SIDMj9"
      }
    },
    {
      "cell_type": "code",
      "source": [
        "inicio_2012_2017 = dt.date(2012,1,1)\n",
        "fin_2012_2017 = dt.date(2017,12,31)\n",
        "df_2012_2017 = pd.DataFrame({'Fecha': pd.date_range(inicio_2012_2017, fin_2012_2017,freq='d')})\n",
        "df_2012_2017 = database(df_2012_2017)\n",
        "df_2012_2017"
      ],
      "metadata": {
        "colab": {
          "base_uri": "https://localhost:8080/",
          "height": 424
        },
        "id": "alj5a3JC9DPz",
        "outputId": "529d90ce-9502-499c-b1c4-5bc25848c67a"
      },
      "execution_count": 6,
      "outputs": [
        {
          "output_type": "execute_result",
          "data": {
            "text/plain": [
              "          Fecha  Dia  Mes  Year\n",
              "0    2012-01-01    1    1  2012\n",
              "1    2012-01-02    2    1  2012\n",
              "2    2012-01-03    3    1  2012\n",
              "3    2012-01-04    4    1  2012\n",
              "4    2012-01-05    5    1  2012\n",
              "...         ...  ...  ...   ...\n",
              "2187 2017-12-27   27   12  2017\n",
              "2188 2017-12-28   28   12  2017\n",
              "2189 2017-12-29   29   12  2017\n",
              "2190 2017-12-30   30   12  2017\n",
              "2191 2017-12-31   31   12  2017\n",
              "\n",
              "[2192 rows x 4 columns]"
            ],
            "text/html": [
              "\n",
              "  <div id=\"df-5944fe06-0055-4db0-840a-f53d5e5e17a8\">\n",
              "    <div class=\"colab-df-container\">\n",
              "      <div>\n",
              "<style scoped>\n",
              "    .dataframe tbody tr th:only-of-type {\n",
              "        vertical-align: middle;\n",
              "    }\n",
              "\n",
              "    .dataframe tbody tr th {\n",
              "        vertical-align: top;\n",
              "    }\n",
              "\n",
              "    .dataframe thead th {\n",
              "        text-align: right;\n",
              "    }\n",
              "</style>\n",
              "<table border=\"1\" class=\"dataframe\">\n",
              "  <thead>\n",
              "    <tr style=\"text-align: right;\">\n",
              "      <th></th>\n",
              "      <th>Fecha</th>\n",
              "      <th>Dia</th>\n",
              "      <th>Mes</th>\n",
              "      <th>Year</th>\n",
              "    </tr>\n",
              "  </thead>\n",
              "  <tbody>\n",
              "    <tr>\n",
              "      <th>0</th>\n",
              "      <td>2012-01-01</td>\n",
              "      <td>1</td>\n",
              "      <td>1</td>\n",
              "      <td>2012</td>\n",
              "    </tr>\n",
              "    <tr>\n",
              "      <th>1</th>\n",
              "      <td>2012-01-02</td>\n",
              "      <td>2</td>\n",
              "      <td>1</td>\n",
              "      <td>2012</td>\n",
              "    </tr>\n",
              "    <tr>\n",
              "      <th>2</th>\n",
              "      <td>2012-01-03</td>\n",
              "      <td>3</td>\n",
              "      <td>1</td>\n",
              "      <td>2012</td>\n",
              "    </tr>\n",
              "    <tr>\n",
              "      <th>3</th>\n",
              "      <td>2012-01-04</td>\n",
              "      <td>4</td>\n",
              "      <td>1</td>\n",
              "      <td>2012</td>\n",
              "    </tr>\n",
              "    <tr>\n",
              "      <th>4</th>\n",
              "      <td>2012-01-05</td>\n",
              "      <td>5</td>\n",
              "      <td>1</td>\n",
              "      <td>2012</td>\n",
              "    </tr>\n",
              "    <tr>\n",
              "      <th>...</th>\n",
              "      <td>...</td>\n",
              "      <td>...</td>\n",
              "      <td>...</td>\n",
              "      <td>...</td>\n",
              "    </tr>\n",
              "    <tr>\n",
              "      <th>2187</th>\n",
              "      <td>2017-12-27</td>\n",
              "      <td>27</td>\n",
              "      <td>12</td>\n",
              "      <td>2017</td>\n",
              "    </tr>\n",
              "    <tr>\n",
              "      <th>2188</th>\n",
              "      <td>2017-12-28</td>\n",
              "      <td>28</td>\n",
              "      <td>12</td>\n",
              "      <td>2017</td>\n",
              "    </tr>\n",
              "    <tr>\n",
              "      <th>2189</th>\n",
              "      <td>2017-12-29</td>\n",
              "      <td>29</td>\n",
              "      <td>12</td>\n",
              "      <td>2017</td>\n",
              "    </tr>\n",
              "    <tr>\n",
              "      <th>2190</th>\n",
              "      <td>2017-12-30</td>\n",
              "      <td>30</td>\n",
              "      <td>12</td>\n",
              "      <td>2017</td>\n",
              "    </tr>\n",
              "    <tr>\n",
              "      <th>2191</th>\n",
              "      <td>2017-12-31</td>\n",
              "      <td>31</td>\n",
              "      <td>12</td>\n",
              "      <td>2017</td>\n",
              "    </tr>\n",
              "  </tbody>\n",
              "</table>\n",
              "<p>2192 rows × 4 columns</p>\n",
              "</div>\n",
              "      <button class=\"colab-df-convert\" onclick=\"convertToInteractive('df-5944fe06-0055-4db0-840a-f53d5e5e17a8')\"\n",
              "              title=\"Convert this dataframe to an interactive table.\"\n",
              "              style=\"display:none;\">\n",
              "        \n",
              "  <svg xmlns=\"http://www.w3.org/2000/svg\" height=\"24px\"viewBox=\"0 0 24 24\"\n",
              "       width=\"24px\">\n",
              "    <path d=\"M0 0h24v24H0V0z\" fill=\"none\"/>\n",
              "    <path d=\"M18.56 5.44l.94 2.06.94-2.06 2.06-.94-2.06-.94-.94-2.06-.94 2.06-2.06.94zm-11 1L8.5 8.5l.94-2.06 2.06-.94-2.06-.94L8.5 2.5l-.94 2.06-2.06.94zm10 10l.94 2.06.94-2.06 2.06-.94-2.06-.94-.94-2.06-.94 2.06-2.06.94z\"/><path d=\"M17.41 7.96l-1.37-1.37c-.4-.4-.92-.59-1.43-.59-.52 0-1.04.2-1.43.59L10.3 9.45l-7.72 7.72c-.78.78-.78 2.05 0 2.83L4 21.41c.39.39.9.59 1.41.59.51 0 1.02-.2 1.41-.59l7.78-7.78 2.81-2.81c.8-.78.8-2.07 0-2.86zM5.41 20L4 18.59l7.72-7.72 1.47 1.35L5.41 20z\"/>\n",
              "  </svg>\n",
              "      </button>\n",
              "      \n",
              "  <style>\n",
              "    .colab-df-container {\n",
              "      display:flex;\n",
              "      flex-wrap:wrap;\n",
              "      gap: 12px;\n",
              "    }\n",
              "\n",
              "    .colab-df-convert {\n",
              "      background-color: #E8F0FE;\n",
              "      border: none;\n",
              "      border-radius: 50%;\n",
              "      cursor: pointer;\n",
              "      display: none;\n",
              "      fill: #1967D2;\n",
              "      height: 32px;\n",
              "      padding: 0 0 0 0;\n",
              "      width: 32px;\n",
              "    }\n",
              "\n",
              "    .colab-df-convert:hover {\n",
              "      background-color: #E2EBFA;\n",
              "      box-shadow: 0px 1px 2px rgba(60, 64, 67, 0.3), 0px 1px 3px 1px rgba(60, 64, 67, 0.15);\n",
              "      fill: #174EA6;\n",
              "    }\n",
              "\n",
              "    [theme=dark] .colab-df-convert {\n",
              "      background-color: #3B4455;\n",
              "      fill: #D2E3FC;\n",
              "    }\n",
              "\n",
              "    [theme=dark] .colab-df-convert:hover {\n",
              "      background-color: #434B5C;\n",
              "      box-shadow: 0px 1px 3px 1px rgba(0, 0, 0, 0.15);\n",
              "      filter: drop-shadow(0px 1px 2px rgba(0, 0, 0, 0.3));\n",
              "      fill: #FFFFFF;\n",
              "    }\n",
              "  </style>\n",
              "\n",
              "      <script>\n",
              "        const buttonEl =\n",
              "          document.querySelector('#df-5944fe06-0055-4db0-840a-f53d5e5e17a8 button.colab-df-convert');\n",
              "        buttonEl.style.display =\n",
              "          google.colab.kernel.accessAllowed ? 'block' : 'none';\n",
              "\n",
              "        async function convertToInteractive(key) {\n",
              "          const element = document.querySelector('#df-5944fe06-0055-4db0-840a-f53d5e5e17a8');\n",
              "          const dataTable =\n",
              "            await google.colab.kernel.invokeFunction('convertToInteractive',\n",
              "                                                     [key], {});\n",
              "          if (!dataTable) return;\n",
              "\n",
              "          const docLinkHtml = 'Like what you see? Visit the ' +\n",
              "            '<a target=\"_blank\" href=https://colab.research.google.com/notebooks/data_table.ipynb>data table notebook</a>'\n",
              "            + ' to learn more about interactive tables.';\n",
              "          element.innerHTML = '';\n",
              "          dataTable['output_type'] = 'display_data';\n",
              "          await google.colab.output.renderOutput(dataTable, element);\n",
              "          const docLink = document.createElement('div');\n",
              "          docLink.innerHTML = docLinkHtml;\n",
              "          element.appendChild(docLink);\n",
              "        }\n",
              "      </script>\n",
              "    </div>\n",
              "  </div>\n",
              "  "
            ]
          },
          "metadata": {},
          "execution_count": 6
        }
      ]
    },
    {
      "cell_type": "markdown",
      "source": [
        "Para las predicciones de los días comprendidos entre el 01/01/2018 y el 30/06/2018."
      ],
      "metadata": {
        "id": "o6h9YU035sc1"
      }
    },
    {
      "cell_type": "code",
      "execution_count": 7,
      "metadata": {
        "id": "RlPRAbsqtOwe",
        "colab": {
          "base_uri": "https://localhost:8080/",
          "height": 424
        },
        "outputId": "8c48fcd7-9c91-4d32-c5ed-f3645d59a6ad"
      },
      "outputs": [
        {
          "output_type": "execute_result",
          "data": {
            "text/plain": [
              "         Fecha  Dia  Mes  Year\n",
              "0   2018-01-01    1    1  2018\n",
              "1   2018-01-02    2    1  2018\n",
              "2   2018-01-03    3    1  2018\n",
              "3   2018-01-04    4    1  2018\n",
              "4   2018-01-05    5    1  2018\n",
              "..         ...  ...  ...   ...\n",
              "176 2018-06-26   26    6  2018\n",
              "177 2018-06-27   27    6  2018\n",
              "178 2018-06-28   28    6  2018\n",
              "179 2018-06-29   29    6  2018\n",
              "180 2018-06-30   30    6  2018\n",
              "\n",
              "[181 rows x 4 columns]"
            ],
            "text/html": [
              "\n",
              "  <div id=\"df-d0ec9be9-e1df-4458-a170-25b62ab671c2\">\n",
              "    <div class=\"colab-df-container\">\n",
              "      <div>\n",
              "<style scoped>\n",
              "    .dataframe tbody tr th:only-of-type {\n",
              "        vertical-align: middle;\n",
              "    }\n",
              "\n",
              "    .dataframe tbody tr th {\n",
              "        vertical-align: top;\n",
              "    }\n",
              "\n",
              "    .dataframe thead th {\n",
              "        text-align: right;\n",
              "    }\n",
              "</style>\n",
              "<table border=\"1\" class=\"dataframe\">\n",
              "  <thead>\n",
              "    <tr style=\"text-align: right;\">\n",
              "      <th></th>\n",
              "      <th>Fecha</th>\n",
              "      <th>Dia</th>\n",
              "      <th>Mes</th>\n",
              "      <th>Year</th>\n",
              "    </tr>\n",
              "  </thead>\n",
              "  <tbody>\n",
              "    <tr>\n",
              "      <th>0</th>\n",
              "      <td>2018-01-01</td>\n",
              "      <td>1</td>\n",
              "      <td>1</td>\n",
              "      <td>2018</td>\n",
              "    </tr>\n",
              "    <tr>\n",
              "      <th>1</th>\n",
              "      <td>2018-01-02</td>\n",
              "      <td>2</td>\n",
              "      <td>1</td>\n",
              "      <td>2018</td>\n",
              "    </tr>\n",
              "    <tr>\n",
              "      <th>2</th>\n",
              "      <td>2018-01-03</td>\n",
              "      <td>3</td>\n",
              "      <td>1</td>\n",
              "      <td>2018</td>\n",
              "    </tr>\n",
              "    <tr>\n",
              "      <th>3</th>\n",
              "      <td>2018-01-04</td>\n",
              "      <td>4</td>\n",
              "      <td>1</td>\n",
              "      <td>2018</td>\n",
              "    </tr>\n",
              "    <tr>\n",
              "      <th>4</th>\n",
              "      <td>2018-01-05</td>\n",
              "      <td>5</td>\n",
              "      <td>1</td>\n",
              "      <td>2018</td>\n",
              "    </tr>\n",
              "    <tr>\n",
              "      <th>...</th>\n",
              "      <td>...</td>\n",
              "      <td>...</td>\n",
              "      <td>...</td>\n",
              "      <td>...</td>\n",
              "    </tr>\n",
              "    <tr>\n",
              "      <th>176</th>\n",
              "      <td>2018-06-26</td>\n",
              "      <td>26</td>\n",
              "      <td>6</td>\n",
              "      <td>2018</td>\n",
              "    </tr>\n",
              "    <tr>\n",
              "      <th>177</th>\n",
              "      <td>2018-06-27</td>\n",
              "      <td>27</td>\n",
              "      <td>6</td>\n",
              "      <td>2018</td>\n",
              "    </tr>\n",
              "    <tr>\n",
              "      <th>178</th>\n",
              "      <td>2018-06-28</td>\n",
              "      <td>28</td>\n",
              "      <td>6</td>\n",
              "      <td>2018</td>\n",
              "    </tr>\n",
              "    <tr>\n",
              "      <th>179</th>\n",
              "      <td>2018-06-29</td>\n",
              "      <td>29</td>\n",
              "      <td>6</td>\n",
              "      <td>2018</td>\n",
              "    </tr>\n",
              "    <tr>\n",
              "      <th>180</th>\n",
              "      <td>2018-06-30</td>\n",
              "      <td>30</td>\n",
              "      <td>6</td>\n",
              "      <td>2018</td>\n",
              "    </tr>\n",
              "  </tbody>\n",
              "</table>\n",
              "<p>181 rows × 4 columns</p>\n",
              "</div>\n",
              "      <button class=\"colab-df-convert\" onclick=\"convertToInteractive('df-d0ec9be9-e1df-4458-a170-25b62ab671c2')\"\n",
              "              title=\"Convert this dataframe to an interactive table.\"\n",
              "              style=\"display:none;\">\n",
              "        \n",
              "  <svg xmlns=\"http://www.w3.org/2000/svg\" height=\"24px\"viewBox=\"0 0 24 24\"\n",
              "       width=\"24px\">\n",
              "    <path d=\"M0 0h24v24H0V0z\" fill=\"none\"/>\n",
              "    <path d=\"M18.56 5.44l.94 2.06.94-2.06 2.06-.94-2.06-.94-.94-2.06-.94 2.06-2.06.94zm-11 1L8.5 8.5l.94-2.06 2.06-.94-2.06-.94L8.5 2.5l-.94 2.06-2.06.94zm10 10l.94 2.06.94-2.06 2.06-.94-2.06-.94-.94-2.06-.94 2.06-2.06.94z\"/><path d=\"M17.41 7.96l-1.37-1.37c-.4-.4-.92-.59-1.43-.59-.52 0-1.04.2-1.43.59L10.3 9.45l-7.72 7.72c-.78.78-.78 2.05 0 2.83L4 21.41c.39.39.9.59 1.41.59.51 0 1.02-.2 1.41-.59l7.78-7.78 2.81-2.81c.8-.78.8-2.07 0-2.86zM5.41 20L4 18.59l7.72-7.72 1.47 1.35L5.41 20z\"/>\n",
              "  </svg>\n",
              "      </button>\n",
              "      \n",
              "  <style>\n",
              "    .colab-df-container {\n",
              "      display:flex;\n",
              "      flex-wrap:wrap;\n",
              "      gap: 12px;\n",
              "    }\n",
              "\n",
              "    .colab-df-convert {\n",
              "      background-color: #E8F0FE;\n",
              "      border: none;\n",
              "      border-radius: 50%;\n",
              "      cursor: pointer;\n",
              "      display: none;\n",
              "      fill: #1967D2;\n",
              "      height: 32px;\n",
              "      padding: 0 0 0 0;\n",
              "      width: 32px;\n",
              "    }\n",
              "\n",
              "    .colab-df-convert:hover {\n",
              "      background-color: #E2EBFA;\n",
              "      box-shadow: 0px 1px 2px rgba(60, 64, 67, 0.3), 0px 1px 3px 1px rgba(60, 64, 67, 0.15);\n",
              "      fill: #174EA6;\n",
              "    }\n",
              "\n",
              "    [theme=dark] .colab-df-convert {\n",
              "      background-color: #3B4455;\n",
              "      fill: #D2E3FC;\n",
              "    }\n",
              "\n",
              "    [theme=dark] .colab-df-convert:hover {\n",
              "      background-color: #434B5C;\n",
              "      box-shadow: 0px 1px 3px 1px rgba(0, 0, 0, 0.15);\n",
              "      filter: drop-shadow(0px 1px 2px rgba(0, 0, 0, 0.3));\n",
              "      fill: #FFFFFF;\n",
              "    }\n",
              "  </style>\n",
              "\n",
              "      <script>\n",
              "        const buttonEl =\n",
              "          document.querySelector('#df-d0ec9be9-e1df-4458-a170-25b62ab671c2 button.colab-df-convert');\n",
              "        buttonEl.style.display =\n",
              "          google.colab.kernel.accessAllowed ? 'block' : 'none';\n",
              "\n",
              "        async function convertToInteractive(key) {\n",
              "          const element = document.querySelector('#df-d0ec9be9-e1df-4458-a170-25b62ab671c2');\n",
              "          const dataTable =\n",
              "            await google.colab.kernel.invokeFunction('convertToInteractive',\n",
              "                                                     [key], {});\n",
              "          if (!dataTable) return;\n",
              "\n",
              "          const docLinkHtml = 'Like what you see? Visit the ' +\n",
              "            '<a target=\"_blank\" href=https://colab.research.google.com/notebooks/data_table.ipynb>data table notebook</a>'\n",
              "            + ' to learn more about interactive tables.';\n",
              "          element.innerHTML = '';\n",
              "          dataTable['output_type'] = 'display_data';\n",
              "          await google.colab.output.renderOutput(dataTable, element);\n",
              "          const docLink = document.createElement('div');\n",
              "          docLink.innerHTML = docLinkHtml;\n",
              "          element.appendChild(docLink);\n",
              "        }\n",
              "      </script>\n",
              "    </div>\n",
              "  </div>\n",
              "  "
            ]
          },
          "metadata": {},
          "execution_count": 7
        }
      ],
      "source": [
        "inicio_2018 = dt.date(2018,1,1)\n",
        "fin_2018 = dt.date(2018,6,30)\n",
        "df_2018 = pd.DataFrame({'Fecha': pd.date_range(inicio_2018, fin_2018,freq='d')})\n",
        "df_2018 = database(df_2018)\n",
        "df_2018"
      ]
    },
    {
      "cell_type": "code",
      "execution_count": 8,
      "metadata": {
        "id": "4JW4Br54tQ5B",
        "colab": {
          "base_uri": "https://localhost:8080/",
          "height": 424
        },
        "outputId": "552bccee-f8b9-4a2a-f2d1-b5ef98cbcc46"
      },
      "outputs": [
        {
          "output_type": "execute_result",
          "data": {
            "text/plain": [
              "     Dia  Mes  Year\n",
              "0      1    1  2018\n",
              "1      2    1  2018\n",
              "2      3    1  2018\n",
              "3      4    1  2018\n",
              "4      5    1  2018\n",
              "..   ...  ...   ...\n",
              "176   26    6  2018\n",
              "177   27    6  2018\n",
              "178   28    6  2018\n",
              "179   29    6  2018\n",
              "180   30    6  2018\n",
              "\n",
              "[181 rows x 3 columns]"
            ],
            "text/html": [
              "\n",
              "  <div id=\"df-fe6a3db3-cc81-4249-9b1a-af6fdb4d08f0\">\n",
              "    <div class=\"colab-df-container\">\n",
              "      <div>\n",
              "<style scoped>\n",
              "    .dataframe tbody tr th:only-of-type {\n",
              "        vertical-align: middle;\n",
              "    }\n",
              "\n",
              "    .dataframe tbody tr th {\n",
              "        vertical-align: top;\n",
              "    }\n",
              "\n",
              "    .dataframe thead th {\n",
              "        text-align: right;\n",
              "    }\n",
              "</style>\n",
              "<table border=\"1\" class=\"dataframe\">\n",
              "  <thead>\n",
              "    <tr style=\"text-align: right;\">\n",
              "      <th></th>\n",
              "      <th>Dia</th>\n",
              "      <th>Mes</th>\n",
              "      <th>Year</th>\n",
              "    </tr>\n",
              "  </thead>\n",
              "  <tbody>\n",
              "    <tr>\n",
              "      <th>0</th>\n",
              "      <td>1</td>\n",
              "      <td>1</td>\n",
              "      <td>2018</td>\n",
              "    </tr>\n",
              "    <tr>\n",
              "      <th>1</th>\n",
              "      <td>2</td>\n",
              "      <td>1</td>\n",
              "      <td>2018</td>\n",
              "    </tr>\n",
              "    <tr>\n",
              "      <th>2</th>\n",
              "      <td>3</td>\n",
              "      <td>1</td>\n",
              "      <td>2018</td>\n",
              "    </tr>\n",
              "    <tr>\n",
              "      <th>3</th>\n",
              "      <td>4</td>\n",
              "      <td>1</td>\n",
              "      <td>2018</td>\n",
              "    </tr>\n",
              "    <tr>\n",
              "      <th>4</th>\n",
              "      <td>5</td>\n",
              "      <td>1</td>\n",
              "      <td>2018</td>\n",
              "    </tr>\n",
              "    <tr>\n",
              "      <th>...</th>\n",
              "      <td>...</td>\n",
              "      <td>...</td>\n",
              "      <td>...</td>\n",
              "    </tr>\n",
              "    <tr>\n",
              "      <th>176</th>\n",
              "      <td>26</td>\n",
              "      <td>6</td>\n",
              "      <td>2018</td>\n",
              "    </tr>\n",
              "    <tr>\n",
              "      <th>177</th>\n",
              "      <td>27</td>\n",
              "      <td>6</td>\n",
              "      <td>2018</td>\n",
              "    </tr>\n",
              "    <tr>\n",
              "      <th>178</th>\n",
              "      <td>28</td>\n",
              "      <td>6</td>\n",
              "      <td>2018</td>\n",
              "    </tr>\n",
              "    <tr>\n",
              "      <th>179</th>\n",
              "      <td>29</td>\n",
              "      <td>6</td>\n",
              "      <td>2018</td>\n",
              "    </tr>\n",
              "    <tr>\n",
              "      <th>180</th>\n",
              "      <td>30</td>\n",
              "      <td>6</td>\n",
              "      <td>2018</td>\n",
              "    </tr>\n",
              "  </tbody>\n",
              "</table>\n",
              "<p>181 rows × 3 columns</p>\n",
              "</div>\n",
              "      <button class=\"colab-df-convert\" onclick=\"convertToInteractive('df-fe6a3db3-cc81-4249-9b1a-af6fdb4d08f0')\"\n",
              "              title=\"Convert this dataframe to an interactive table.\"\n",
              "              style=\"display:none;\">\n",
              "        \n",
              "  <svg xmlns=\"http://www.w3.org/2000/svg\" height=\"24px\"viewBox=\"0 0 24 24\"\n",
              "       width=\"24px\">\n",
              "    <path d=\"M0 0h24v24H0V0z\" fill=\"none\"/>\n",
              "    <path d=\"M18.56 5.44l.94 2.06.94-2.06 2.06-.94-2.06-.94-.94-2.06-.94 2.06-2.06.94zm-11 1L8.5 8.5l.94-2.06 2.06-.94-2.06-.94L8.5 2.5l-.94 2.06-2.06.94zm10 10l.94 2.06.94-2.06 2.06-.94-2.06-.94-.94-2.06-.94 2.06-2.06.94z\"/><path d=\"M17.41 7.96l-1.37-1.37c-.4-.4-.92-.59-1.43-.59-.52 0-1.04.2-1.43.59L10.3 9.45l-7.72 7.72c-.78.78-.78 2.05 0 2.83L4 21.41c.39.39.9.59 1.41.59.51 0 1.02-.2 1.41-.59l7.78-7.78 2.81-2.81c.8-.78.8-2.07 0-2.86zM5.41 20L4 18.59l7.72-7.72 1.47 1.35L5.41 20z\"/>\n",
              "  </svg>\n",
              "      </button>\n",
              "      \n",
              "  <style>\n",
              "    .colab-df-container {\n",
              "      display:flex;\n",
              "      flex-wrap:wrap;\n",
              "      gap: 12px;\n",
              "    }\n",
              "\n",
              "    .colab-df-convert {\n",
              "      background-color: #E8F0FE;\n",
              "      border: none;\n",
              "      border-radius: 50%;\n",
              "      cursor: pointer;\n",
              "      display: none;\n",
              "      fill: #1967D2;\n",
              "      height: 32px;\n",
              "      padding: 0 0 0 0;\n",
              "      width: 32px;\n",
              "    }\n",
              "\n",
              "    .colab-df-convert:hover {\n",
              "      background-color: #E2EBFA;\n",
              "      box-shadow: 0px 1px 2px rgba(60, 64, 67, 0.3), 0px 1px 3px 1px rgba(60, 64, 67, 0.15);\n",
              "      fill: #174EA6;\n",
              "    }\n",
              "\n",
              "    [theme=dark] .colab-df-convert {\n",
              "      background-color: #3B4455;\n",
              "      fill: #D2E3FC;\n",
              "    }\n",
              "\n",
              "    [theme=dark] .colab-df-convert:hover {\n",
              "      background-color: #434B5C;\n",
              "      box-shadow: 0px 1px 3px 1px rgba(0, 0, 0, 0.15);\n",
              "      filter: drop-shadow(0px 1px 2px rgba(0, 0, 0, 0.3));\n",
              "      fill: #FFFFFF;\n",
              "    }\n",
              "  </style>\n",
              "\n",
              "      <script>\n",
              "        const buttonEl =\n",
              "          document.querySelector('#df-fe6a3db3-cc81-4249-9b1a-af6fdb4d08f0 button.colab-df-convert');\n",
              "        buttonEl.style.display =\n",
              "          google.colab.kernel.accessAllowed ? 'block' : 'none';\n",
              "\n",
              "        async function convertToInteractive(key) {\n",
              "          const element = document.querySelector('#df-fe6a3db3-cc81-4249-9b1a-af6fdb4d08f0');\n",
              "          const dataTable =\n",
              "            await google.colab.kernel.invokeFunction('convertToInteractive',\n",
              "                                                     [key], {});\n",
              "          if (!dataTable) return;\n",
              "\n",
              "          const docLinkHtml = 'Like what you see? Visit the ' +\n",
              "            '<a target=\"_blank\" href=https://colab.research.google.com/notebooks/data_table.ipynb>data table notebook</a>'\n",
              "            + ' to learn more about interactive tables.';\n",
              "          element.innerHTML = '';\n",
              "          dataTable['output_type'] = 'display_data';\n",
              "          await google.colab.output.renderOutput(dataTable, element);\n",
              "          const docLink = document.createElement('div');\n",
              "          docLink.innerHTML = docLinkHtml;\n",
              "          element.appendChild(docLink);\n",
              "        }\n",
              "      </script>\n",
              "    </div>\n",
              "  </div>\n",
              "  "
            ]
          },
          "metadata": {},
          "execution_count": 8
        }
      ],
      "source": [
        "predict_2018 = df_2018.drop(['Fecha'], axis=1)\n",
        "predict_2018"
      ]
    },
    {
      "cell_type": "code",
      "source": [
        "predict_2012_2017 = df_2012_2017.drop(['Fecha'], axis=1)\n",
        "predict_2012_2017"
      ],
      "metadata": {
        "colab": {
          "base_uri": "https://localhost:8080/",
          "height": 424
        },
        "id": "3IQ6OJBgUtaq",
        "outputId": "ded54003-2324-4dcd-8a4b-b121732948f2"
      },
      "execution_count": 9,
      "outputs": [
        {
          "output_type": "execute_result",
          "data": {
            "text/plain": [
              "      Dia  Mes  Year\n",
              "0       1    1  2012\n",
              "1       2    1  2012\n",
              "2       3    1  2012\n",
              "3       4    1  2012\n",
              "4       5    1  2012\n",
              "...   ...  ...   ...\n",
              "2187   27   12  2017\n",
              "2188   28   12  2017\n",
              "2189   29   12  2017\n",
              "2190   30   12  2017\n",
              "2191   31   12  2017\n",
              "\n",
              "[2192 rows x 3 columns]"
            ],
            "text/html": [
              "\n",
              "  <div id=\"df-a2770acf-248a-4cb6-bbb1-7ebfebd77341\">\n",
              "    <div class=\"colab-df-container\">\n",
              "      <div>\n",
              "<style scoped>\n",
              "    .dataframe tbody tr th:only-of-type {\n",
              "        vertical-align: middle;\n",
              "    }\n",
              "\n",
              "    .dataframe tbody tr th {\n",
              "        vertical-align: top;\n",
              "    }\n",
              "\n",
              "    .dataframe thead th {\n",
              "        text-align: right;\n",
              "    }\n",
              "</style>\n",
              "<table border=\"1\" class=\"dataframe\">\n",
              "  <thead>\n",
              "    <tr style=\"text-align: right;\">\n",
              "      <th></th>\n",
              "      <th>Dia</th>\n",
              "      <th>Mes</th>\n",
              "      <th>Year</th>\n",
              "    </tr>\n",
              "  </thead>\n",
              "  <tbody>\n",
              "    <tr>\n",
              "      <th>0</th>\n",
              "      <td>1</td>\n",
              "      <td>1</td>\n",
              "      <td>2012</td>\n",
              "    </tr>\n",
              "    <tr>\n",
              "      <th>1</th>\n",
              "      <td>2</td>\n",
              "      <td>1</td>\n",
              "      <td>2012</td>\n",
              "    </tr>\n",
              "    <tr>\n",
              "      <th>2</th>\n",
              "      <td>3</td>\n",
              "      <td>1</td>\n",
              "      <td>2012</td>\n",
              "    </tr>\n",
              "    <tr>\n",
              "      <th>3</th>\n",
              "      <td>4</td>\n",
              "      <td>1</td>\n",
              "      <td>2012</td>\n",
              "    </tr>\n",
              "    <tr>\n",
              "      <th>4</th>\n",
              "      <td>5</td>\n",
              "      <td>1</td>\n",
              "      <td>2012</td>\n",
              "    </tr>\n",
              "    <tr>\n",
              "      <th>...</th>\n",
              "      <td>...</td>\n",
              "      <td>...</td>\n",
              "      <td>...</td>\n",
              "    </tr>\n",
              "    <tr>\n",
              "      <th>2187</th>\n",
              "      <td>27</td>\n",
              "      <td>12</td>\n",
              "      <td>2017</td>\n",
              "    </tr>\n",
              "    <tr>\n",
              "      <th>2188</th>\n",
              "      <td>28</td>\n",
              "      <td>12</td>\n",
              "      <td>2017</td>\n",
              "    </tr>\n",
              "    <tr>\n",
              "      <th>2189</th>\n",
              "      <td>29</td>\n",
              "      <td>12</td>\n",
              "      <td>2017</td>\n",
              "    </tr>\n",
              "    <tr>\n",
              "      <th>2190</th>\n",
              "      <td>30</td>\n",
              "      <td>12</td>\n",
              "      <td>2017</td>\n",
              "    </tr>\n",
              "    <tr>\n",
              "      <th>2191</th>\n",
              "      <td>31</td>\n",
              "      <td>12</td>\n",
              "      <td>2017</td>\n",
              "    </tr>\n",
              "  </tbody>\n",
              "</table>\n",
              "<p>2192 rows × 3 columns</p>\n",
              "</div>\n",
              "      <button class=\"colab-df-convert\" onclick=\"convertToInteractive('df-a2770acf-248a-4cb6-bbb1-7ebfebd77341')\"\n",
              "              title=\"Convert this dataframe to an interactive table.\"\n",
              "              style=\"display:none;\">\n",
              "        \n",
              "  <svg xmlns=\"http://www.w3.org/2000/svg\" height=\"24px\"viewBox=\"0 0 24 24\"\n",
              "       width=\"24px\">\n",
              "    <path d=\"M0 0h24v24H0V0z\" fill=\"none\"/>\n",
              "    <path d=\"M18.56 5.44l.94 2.06.94-2.06 2.06-.94-2.06-.94-.94-2.06-.94 2.06-2.06.94zm-11 1L8.5 8.5l.94-2.06 2.06-.94-2.06-.94L8.5 2.5l-.94 2.06-2.06.94zm10 10l.94 2.06.94-2.06 2.06-.94-2.06-.94-.94-2.06-.94 2.06-2.06.94z\"/><path d=\"M17.41 7.96l-1.37-1.37c-.4-.4-.92-.59-1.43-.59-.52 0-1.04.2-1.43.59L10.3 9.45l-7.72 7.72c-.78.78-.78 2.05 0 2.83L4 21.41c.39.39.9.59 1.41.59.51 0 1.02-.2 1.41-.59l7.78-7.78 2.81-2.81c.8-.78.8-2.07 0-2.86zM5.41 20L4 18.59l7.72-7.72 1.47 1.35L5.41 20z\"/>\n",
              "  </svg>\n",
              "      </button>\n",
              "      \n",
              "  <style>\n",
              "    .colab-df-container {\n",
              "      display:flex;\n",
              "      flex-wrap:wrap;\n",
              "      gap: 12px;\n",
              "    }\n",
              "\n",
              "    .colab-df-convert {\n",
              "      background-color: #E8F0FE;\n",
              "      border: none;\n",
              "      border-radius: 50%;\n",
              "      cursor: pointer;\n",
              "      display: none;\n",
              "      fill: #1967D2;\n",
              "      height: 32px;\n",
              "      padding: 0 0 0 0;\n",
              "      width: 32px;\n",
              "    }\n",
              "\n",
              "    .colab-df-convert:hover {\n",
              "      background-color: #E2EBFA;\n",
              "      box-shadow: 0px 1px 2px rgba(60, 64, 67, 0.3), 0px 1px 3px 1px rgba(60, 64, 67, 0.15);\n",
              "      fill: #174EA6;\n",
              "    }\n",
              "\n",
              "    [theme=dark] .colab-df-convert {\n",
              "      background-color: #3B4455;\n",
              "      fill: #D2E3FC;\n",
              "    }\n",
              "\n",
              "    [theme=dark] .colab-df-convert:hover {\n",
              "      background-color: #434B5C;\n",
              "      box-shadow: 0px 1px 3px 1px rgba(0, 0, 0, 0.15);\n",
              "      filter: drop-shadow(0px 1px 2px rgba(0, 0, 0, 0.3));\n",
              "      fill: #FFFFFF;\n",
              "    }\n",
              "  </style>\n",
              "\n",
              "      <script>\n",
              "        const buttonEl =\n",
              "          document.querySelector('#df-a2770acf-248a-4cb6-bbb1-7ebfebd77341 button.colab-df-convert');\n",
              "        buttonEl.style.display =\n",
              "          google.colab.kernel.accessAllowed ? 'block' : 'none';\n",
              "\n",
              "        async function convertToInteractive(key) {\n",
              "          const element = document.querySelector('#df-a2770acf-248a-4cb6-bbb1-7ebfebd77341');\n",
              "          const dataTable =\n",
              "            await google.colab.kernel.invokeFunction('convertToInteractive',\n",
              "                                                     [key], {});\n",
              "          if (!dataTable) return;\n",
              "\n",
              "          const docLinkHtml = 'Like what you see? Visit the ' +\n",
              "            '<a target=\"_blank\" href=https://colab.research.google.com/notebooks/data_table.ipynb>data table notebook</a>'\n",
              "            + ' to learn more about interactive tables.';\n",
              "          element.innerHTML = '';\n",
              "          dataTable['output_type'] = 'display_data';\n",
              "          await google.colab.output.renderOutput(dataTable, element);\n",
              "          const docLink = document.createElement('div');\n",
              "          docLink.innerHTML = docLinkHtml;\n",
              "          element.appendChild(docLink);\n",
              "        }\n",
              "      </script>\n",
              "    </div>\n",
              "  </div>\n",
              "  "
            ]
          },
          "metadata": {},
          "execution_count": 9
        }
      ]
    },
    {
      "cell_type": "markdown",
      "metadata": {
        "id": "vIOOT-97tUwy"
      },
      "source": [
        "# Entrenamiento y validación"
      ]
    },
    {
      "cell_type": "markdown",
      "metadata": {
        "id": "P0UMfv5ZtXLx"
      },
      "source": [
        "Para entrenamiento se toma toda la información hasta el 31 de diciembre de 2016 y para validación todo el año 2017\n",
        "\n",
        "Entrenamiento: entre 01/01/2012 y 31/12/2016.\n",
        "\n",
        "Validación: entre 01/01/2017 y 31/12/2017.\n"
      ]
    },
    {
      "cell_type": "code",
      "execution_count": 10,
      "metadata": {
        "id": "KHUb0tuWtZoi",
        "colab": {
          "base_uri": "https://localhost:8080/"
        },
        "outputId": "42fa6995-e597-4085-da5f-f92dbcf9b19d"
      },
      "outputs": [
        {
          "output_type": "stream",
          "name": "stdout",
          "text": [
            "      Dia  Mes  Year\n",
            "0       1    1  2012\n",
            "1       2    1  2012\n",
            "2       3    1  2012\n",
            "3       4    1  2012\n",
            "4       5    1  2012\n",
            "...   ...  ...   ...\n",
            "1822   27   12  2016\n",
            "1823   28   12  2016\n",
            "1824   29   12  2016\n",
            "1825   30   12  2016\n",
            "1826   31   12  2016\n",
            "\n",
            "[1827 rows x 3 columns]\n"
          ]
        },
        {
          "output_type": "execute_result",
          "data": {
            "text/plain": [
              "0          0.0\n",
              "1        188.0\n",
              "2        482.0\n",
              "3        927.0\n",
              "4       1159.0\n",
              "         ...  \n",
              "1822    1922.0\n",
              "1823    2409.0\n",
              "1824    3603.0\n",
              "1825     965.0\n",
              "1826      46.0\n",
              "Name: Unidades, Length: 1827, dtype: float64"
            ]
          },
          "metadata": {},
          "execution_count": 10
        }
      ],
      "source": [
        "df_training = df[df['Year'] <= 2016].drop(['Fecha'], axis=1)\n",
        "training = df_training.drop(['Unidades'], axis=1)\n",
        "training_target = df_training['Unidades']\n",
        "print(training)\n",
        "training_target"
      ]
    },
    {
      "cell_type": "code",
      "execution_count": 11,
      "metadata": {
        "id": "UuY_h3w5tcqY",
        "colab": {
          "base_uri": "https://localhost:8080/"
        },
        "outputId": "a07655f3-11cc-4db0-dc3d-489325ce4a9c"
      },
      "outputs": [
        {
          "output_type": "stream",
          "name": "stdout",
          "text": [
            "      Dia  Mes  Year\n",
            "1827    1    1  2017\n",
            "1828    2    1  2017\n",
            "1829    3    1  2017\n",
            "1830    4    1  2017\n",
            "1831    5    1  2017\n",
            "...   ...  ...   ...\n",
            "2187   27   12  2017\n",
            "2188   28   12  2017\n",
            "2189   29   12  2017\n",
            "2190   30   12  2017\n",
            "2191   31   12  2017\n",
            "\n",
            "[365 rows x 3 columns]\n"
          ]
        },
        {
          "output_type": "execute_result",
          "data": {
            "text/plain": [
              "1827       0.0\n",
              "1828      45.0\n",
              "1829     116.0\n",
              "1830     232.0\n",
              "1831     455.0\n",
              "         ...  \n",
              "2187    2102.0\n",
              "2188    3449.0\n",
              "2189    1084.0\n",
              "2190      18.0\n",
              "2191       0.0\n",
              "Name: Unidades, Length: 365, dtype: float64"
            ]
          },
          "metadata": {},
          "execution_count": 11
        }
      ],
      "source": [
        "df_validation = df[df['Year'] == 2017].drop(['Fecha'], axis=1)\n",
        "validation = df_validation.drop(['Unidades'], axis=1)\n",
        "validation_target = df_validation['Unidades']\n",
        "print(validation)\n",
        "validation_target"
      ]
    },
    {
      "cell_type": "code",
      "execution_count": 12,
      "metadata": {
        "id": "om7QI0C4tvGa",
        "colab": {
          "base_uri": "https://localhost:8080/"
        },
        "outputId": "4e74d647-c425-4f78-bd5a-6674c479eaa9"
      },
      "outputs": [
        {
          "output_type": "stream",
          "name": "stdout",
          "text": [
            "      Dia  Mes  Year\n",
            "1827    1    1  2017\n",
            "1828    2    1  2017\n",
            "1829    3    1  2017\n",
            "1830    4    1  2017\n",
            "1831    5    1  2017\n",
            "...   ...  ...   ...\n",
            "2187   27   12  2017\n",
            "2188   28   12  2017\n",
            "2189   29   12  2017\n",
            "2190   30   12  2017\n",
            "2191   31   12  2017\n",
            "\n",
            "[365 rows x 3 columns]\n"
          ]
        },
        {
          "output_type": "execute_result",
          "data": {
            "text/plain": [
              "1827       0.0\n",
              "1828      45.0\n",
              "1829     116.0\n",
              "1830     232.0\n",
              "1831     455.0\n",
              "         ...  \n",
              "2187    2102.0\n",
              "2188    3449.0\n",
              "2189    1084.0\n",
              "2190      18.0\n",
              "2191       0.0\n",
              "Name: Unidades, Length: 365, dtype: float64"
            ]
          },
          "metadata": {},
          "execution_count": 12
        }
      ],
      "source": [
        "df_validation = df[df['Year'] == 2017].drop(['Fecha'], axis=1)\n",
        "validation = df_validation.drop(['Unidades'], axis=1)\n",
        "validation_target = df_validation['Unidades']\n",
        "print(validation)\n",
        "validation_target"
      ]
    },
    {
      "cell_type": "markdown",
      "metadata": {
        "id": "AqeKVbz4uFrM"
      },
      "source": [
        "# Modelos\n",
        "Se prueban varios modelos para escoger el mejor en predecir el número de vehículos registrados.\n",
        "\n",
        "# Modelo usando Regresión Lineal"
      ]
    },
    {
      "cell_type": "markdown",
      "metadata": {
        "id": "Cw7FVUsnuIMo"
      },
      "source": [
        "Se entrena y se valida el modelo."
      ]
    },
    {
      "cell_type": "code",
      "execution_count": 13,
      "metadata": {
        "id": "9KvwY0iQuJeK",
        "colab": {
          "base_uri": "https://localhost:8080/"
        },
        "outputId": "7fb1132a-8054-4152-b49c-6414c5fd318f"
      },
      "outputs": [
        {
          "output_type": "execute_result",
          "data": {
            "text/plain": [
              "0.060974189310455396"
            ]
          },
          "metadata": {},
          "execution_count": 13
        }
      ],
      "source": [
        "regr_model = linear_model.LinearRegression()\n",
        "regr_model.fit(training, training_target)\n",
        "y_predicted_r = regr_model.predict(training)\n",
        "r2_training_r = r2_score(training_target, y_predicted_r)\n",
        "r2_training_r"
      ]
    },
    {
      "cell_type": "code",
      "execution_count": 14,
      "metadata": {
        "id": "Wbv3FDI7uNqM",
        "colab": {
          "base_uri": "https://localhost:8080/"
        },
        "outputId": "28491e99-ff38-4d07-b650-d66b2bc66eff"
      },
      "outputs": [
        {
          "output_type": "execute_result",
          "data": {
            "text/plain": [
              "0.10129579125537447"
            ]
          },
          "metadata": {},
          "execution_count": 14
        }
      ],
      "source": [
        "y_validation_r = regr_model.predict(validation)\n",
        "r2_validation_r = r2_score(validation_target, y_validation_r)\n",
        "r2_validation_r"
      ]
    },
    {
      "cell_type": "code",
      "execution_count": 15,
      "metadata": {
        "id": "0sg-zN9luP7p",
        "colab": {
          "base_uri": "https://localhost:8080/"
        },
        "outputId": "f383ba00-dc8e-4038-ff66-b029315e5250"
      },
      "outputs": [
        {
          "output_type": "execute_result",
          "data": {
            "text/plain": [
              "-0.04032160194491907"
            ]
          },
          "metadata": {},
          "execution_count": 15
        }
      ],
      "source": [
        "r2_training_r - r2_validation_r"
      ]
    },
    {
      "cell_type": "markdown",
      "metadata": {
        "id": "V5H8e-qLtyER"
      },
      "source": [
        "# Modelo usando Bosques Aleatorios"
      ]
    },
    {
      "cell_type": "markdown",
      "metadata": {
        "id": "Hklh8Gyst0Ed"
      },
      "source": [
        "Se entrena y se valida el modelo."
      ]
    },
    {
      "cell_type": "code",
      "execution_count": 16,
      "metadata": {
        "id": "gEbPMHJ-t2Jz",
        "colab": {
          "base_uri": "https://localhost:8080/"
        },
        "outputId": "ef856aac-1ad9-499c-c5f3-b15130eefb4b"
      },
      "outputs": [
        {
          "output_type": "execute_result",
          "data": {
            "text/plain": [
              "0.8870616164709797"
            ]
          },
          "metadata": {},
          "execution_count": 16
        }
      ],
      "source": [
        "#defining the RandomForestRegressor\n",
        "RF_model=RandomForestRegressor()\n",
        " \n",
        "RF_model.fit(training,training_target)\n",
        "#testing\n",
        "y_predicted_rf = RF_model.predict(training)\n",
        "r2_training_rf = r2_score(training_target, y_predicted_rf)\n",
        "r2_training_rf"
      ]
    },
    {
      "cell_type": "code",
      "execution_count": 17,
      "metadata": {
        "id": "I3M2Zrpjt4XI",
        "colab": {
          "base_uri": "https://localhost:8080/"
        },
        "outputId": "c9552e38-b29e-4b5c-9346-0083db37692a"
      },
      "outputs": [
        {
          "output_type": "execute_result",
          "data": {
            "text/plain": [
              "0.1805650483208996"
            ]
          },
          "metadata": {},
          "execution_count": 17
        }
      ],
      "source": [
        "y_validation_rf = RF_model.predict(validation)\n",
        "r2_validation_rf = r2_score(validation_target, y_validation_rf)\n",
        "r2_validation_rf"
      ]
    },
    {
      "cell_type": "code",
      "execution_count": 18,
      "metadata": {
        "id": "1Q1CunArt6ly",
        "colab": {
          "base_uri": "https://localhost:8080/"
        },
        "outputId": "472ff48e-2d42-4aac-8832-85365545e1f9"
      },
      "outputs": [
        {
          "output_type": "execute_result",
          "data": {
            "text/plain": [
              "0.7064965681500801"
            ]
          },
          "metadata": {},
          "execution_count": 18
        }
      ],
      "source": [
        "r2_training_rf - r2_validation_rf"
      ]
    },
    {
      "cell_type": "markdown",
      "metadata": {
        "id": "trTL-dELundu"
      },
      "source": [
        "# Modelo usando Regresión Lasso"
      ]
    },
    {
      "cell_type": "markdown",
      "metadata": {
        "id": "iSrw7l5Wusgq"
      },
      "source": [
        "Se entrena y se valida el modelo."
      ]
    },
    {
      "cell_type": "code",
      "execution_count": 19,
      "metadata": {
        "id": "UmUBzFkyuodC",
        "colab": {
          "base_uri": "https://localhost:8080/"
        },
        "outputId": "f57f9f63-bb86-4419-eae8-323b4db5f435"
      },
      "outputs": [
        {
          "output_type": "execute_result",
          "data": {
            "text/plain": [
              "0.060972234147651516"
            ]
          },
          "metadata": {},
          "execution_count": 19
        }
      ],
      "source": [
        "lasso = linear_model.Lasso()\n",
        "lasso.fit(training, training_target)\n",
        "y_predicted_lasso = lasso.predict(training)\n",
        "r2_training_lasso = r2_score(training_target, y_predicted_lasso)\n",
        "r2_training_lasso"
      ]
    },
    {
      "cell_type": "code",
      "execution_count": 20,
      "metadata": {
        "id": "34qx7c5buwiJ",
        "colab": {
          "base_uri": "https://localhost:8080/"
        },
        "outputId": "4f63064f-f02a-4f42-cbd4-f064909fdc08"
      },
      "outputs": [
        {
          "output_type": "execute_result",
          "data": {
            "text/plain": [
              "0.10075119269293853"
            ]
          },
          "metadata": {},
          "execution_count": 20
        }
      ],
      "source": [
        "y_validation_lasso = lasso.predict(validation)\n",
        "r2_validation_lasso = r2_score(validation_target, y_validation_lasso)\n",
        "r2_validation_lasso"
      ]
    },
    {
      "cell_type": "code",
      "execution_count": 21,
      "metadata": {
        "id": "TnbK51ZIuybZ",
        "colab": {
          "base_uri": "https://localhost:8080/"
        },
        "outputId": "791a3174-3dd5-4454-f722-516c7d55ff63"
      },
      "outputs": [
        {
          "output_type": "execute_result",
          "data": {
            "text/plain": [
              "-0.03977895854528701"
            ]
          },
          "metadata": {},
          "execution_count": 21
        }
      ],
      "source": [
        "r2_training_lasso - r2_validation_lasso"
      ]
    },
    {
      "cell_type": "markdown",
      "metadata": {
        "id": "_MKtMpscu4ou"
      },
      "source": [
        "# Modelo usando Redes Neuronales con Regresión"
      ]
    },
    {
      "cell_type": "code",
      "execution_count": 22,
      "metadata": {
        "id": "_cFDtv6Fu6ez",
        "colab": {
          "base_uri": "https://localhost:8080/"
        },
        "outputId": "a2c3bfbc-7aba-4a91-eb42-6b6db812b89e"
      },
      "outputs": [
        {
          "output_type": "execute_result",
          "data": {
            "text/plain": [
              "(1827, 3)"
            ]
          },
          "metadata": {},
          "execution_count": 22
        }
      ],
      "source": [
        "training.shape"
      ]
    },
    {
      "cell_type": "code",
      "execution_count": 23,
      "metadata": {
        "id": "Hl40_wYpu8k3",
        "colab": {
          "base_uri": "https://localhost:8080/"
        },
        "outputId": "9b500011-e07e-4317-d2e7-d48ec0e71430"
      },
      "outputs": [
        {
          "output_type": "stream",
          "name": "stdout",
          "text": [
            "Model: \"sequential\"\n",
            "_________________________________________________________________\n",
            " Layer (type)                Output Shape              Param #   \n",
            "=================================================================\n",
            " dense (Dense)               (None, 128)               512       \n",
            "                                                                 \n",
            " dense_1 (Dense)             (None, 256)               33024     \n",
            "                                                                 \n",
            " dense_2 (Dense)             (None, 256)               65792     \n",
            "                                                                 \n",
            " dense_3 (Dense)             (None, 256)               65792     \n",
            "                                                                 \n",
            " dense_4 (Dense)             (None, 1)                 257       \n",
            "                                                                 \n",
            "=================================================================\n",
            "Total params: 165,377\n",
            "Trainable params: 165,377\n",
            "Non-trainable params: 0\n",
            "_________________________________________________________________\n"
          ]
        }
      ],
      "source": [
        "NN_model = Sequential()\n",
        "\n",
        "# The Input Layer :\n",
        "NN_model.add(Dense(128, kernel_initializer='normal',input_dim = training.shape[1], activation='relu'))\n",
        "\n",
        "# The Hidden Layers :\n",
        "NN_model.add(Dense(256, kernel_initializer='normal',activation='relu'))\n",
        "NN_model.add(Dense(256, kernel_initializer='normal',activation='relu'))\n",
        "NN_model.add(Dense(256, kernel_initializer='normal',activation='relu'))\n",
        "\n",
        "# The Output Layer :\n",
        "NN_model.add(Dense(1, kernel_initializer='normal',activation='linear'))\n",
        "\n",
        "# Compile the network :\n",
        "NN_model.compile(loss='mean_absolute_error', optimizer='adam', metrics=['mean_absolute_error'])\n",
        "NN_model.summary()"
      ]
    },
    {
      "cell_type": "code",
      "execution_count": 24,
      "metadata": {
        "id": "oYnZv4S7u_oT"
      },
      "outputs": [],
      "source": [
        "checkpoint_name = 'Weights-{epoch:03d}--{val_loss:.5f}.hdf5' \n",
        "checkpoint = ModelCheckpoint(checkpoint_name, monitor='val_loss', verbose = 1, save_best_only = True, mode ='auto')\n",
        "callbacks_list = [checkpoint]"
      ]
    },
    {
      "cell_type": "code",
      "execution_count": 25,
      "metadata": {
        "id": "kBGow6S3vDPK",
        "colab": {
          "base_uri": "https://localhost:8080/"
        },
        "outputId": "e392cc62-efb1-480d-9b53-2ac122739231"
      },
      "outputs": [
        {
          "output_type": "stream",
          "name": "stdout",
          "text": [
            "Epoch 1/45\n",
            "41/46 [=========================>....] - ETA: 0s - loss: 561.1901 - mean_absolute_error: 561.1901\n",
            "Epoch 1: val_loss improved from inf to 440.54956, saving model to Weights-001--440.54956.hdf5\n",
            "46/46 [==============================] - 3s 32ms/step - loss: 549.8618 - mean_absolute_error: 549.8618 - val_loss: 440.5496 - val_mean_absolute_error: 440.5496\n",
            "Epoch 2/45\n",
            "44/46 [===========================>..] - ETA: 0s - loss: 460.0733 - mean_absolute_error: 460.0733\n",
            "Epoch 2: val_loss did not improve from 440.54956\n",
            "46/46 [==============================] - 1s 12ms/step - loss: 459.4506 - mean_absolute_error: 459.4506 - val_loss: 451.3647 - val_mean_absolute_error: 451.3647\n",
            "Epoch 3/45\n",
            "46/46 [==============================] - ETA: 0s - loss: 461.4554 - mean_absolute_error: 461.4554\n",
            "Epoch 3: val_loss did not improve from 440.54956\n",
            "46/46 [==============================] - 1s 12ms/step - loss: 461.4554 - mean_absolute_error: 461.4554 - val_loss: 481.2015 - val_mean_absolute_error: 481.2015\n",
            "Epoch 4/45\n",
            "46/46 [==============================] - ETA: 0s - loss: 462.8329 - mean_absolute_error: 462.8329\n",
            "Epoch 4: val_loss improved from 440.54956 to 428.36765, saving model to Weights-004--428.36765.hdf5\n",
            "46/46 [==============================] - 1s 13ms/step - loss: 462.8329 - mean_absolute_error: 462.8329 - val_loss: 428.3676 - val_mean_absolute_error: 428.3676\n",
            "Epoch 5/45\n",
            "42/46 [==========================>...] - ETA: 0s - loss: 463.1323 - mean_absolute_error: 463.1323\n",
            "Epoch 5: val_loss did not improve from 428.36765\n",
            "46/46 [==============================] - 0s 11ms/step - loss: 464.4975 - mean_absolute_error: 464.4975 - val_loss: 479.4972 - val_mean_absolute_error: 479.4972\n",
            "Epoch 6/45\n",
            "42/46 [==========================>...] - ETA: 0s - loss: 464.1768 - mean_absolute_error: 464.1768\n",
            "Epoch 6: val_loss did not improve from 428.36765\n",
            "46/46 [==============================] - 1s 12ms/step - loss: 464.4012 - mean_absolute_error: 464.4012 - val_loss: 456.2119 - val_mean_absolute_error: 456.2119\n",
            "Epoch 7/45\n",
            "44/46 [===========================>..] - ETA: 0s - loss: 462.5537 - mean_absolute_error: 462.5537\n",
            "Epoch 7: val_loss improved from 428.36765 to 408.86786, saving model to Weights-007--408.86786.hdf5\n",
            "46/46 [==============================] - 1s 12ms/step - loss: 461.8352 - mean_absolute_error: 461.8352 - val_loss: 408.8679 - val_mean_absolute_error: 408.8679\n",
            "Epoch 8/45\n",
            "46/46 [==============================] - ETA: 0s - loss: 462.6732 - mean_absolute_error: 462.6732\n",
            "Epoch 8: val_loss did not improve from 408.86786\n",
            "46/46 [==============================] - 0s 6ms/step - loss: 462.6732 - mean_absolute_error: 462.6732 - val_loss: 576.9645 - val_mean_absolute_error: 576.9645\n",
            "Epoch 9/45\n",
            "42/46 [==========================>...] - ETA: 0s - loss: 482.2901 - mean_absolute_error: 482.2901\n",
            "Epoch 9: val_loss did not improve from 408.86786\n",
            "46/46 [==============================] - 0s 6ms/step - loss: 480.4959 - mean_absolute_error: 480.4959 - val_loss: 446.0729 - val_mean_absolute_error: 446.0729\n",
            "Epoch 10/45\n",
            "42/46 [==========================>...] - ETA: 0s - loss: 460.1005 - mean_absolute_error: 460.1005\n",
            "Epoch 10: val_loss did not improve from 408.86786\n",
            "46/46 [==============================] - 0s 6ms/step - loss: 458.6049 - mean_absolute_error: 458.6049 - val_loss: 430.0553 - val_mean_absolute_error: 430.0553\n",
            "Epoch 11/45\n",
            "44/46 [===========================>..] - ETA: 0s - loss: 463.6261 - mean_absolute_error: 463.6261\n",
            "Epoch 11: val_loss did not improve from 408.86786\n",
            "46/46 [==============================] - 0s 7ms/step - loss: 464.4877 - mean_absolute_error: 464.4877 - val_loss: 442.5283 - val_mean_absolute_error: 442.5283\n",
            "Epoch 12/45\n",
            "44/46 [===========================>..] - ETA: 0s - loss: 459.9624 - mean_absolute_error: 459.9624\n",
            "Epoch 12: val_loss did not improve from 408.86786\n",
            "46/46 [==============================] - 0s 6ms/step - loss: 461.3223 - mean_absolute_error: 461.3223 - val_loss: 414.8147 - val_mean_absolute_error: 414.8147\n",
            "Epoch 13/45\n",
            "37/46 [=======================>......] - ETA: 0s - loss: 456.2845 - mean_absolute_error: 456.2845\n",
            "Epoch 13: val_loss did not improve from 408.86786\n",
            "46/46 [==============================] - 0s 8ms/step - loss: 461.3066 - mean_absolute_error: 461.3066 - val_loss: 429.5697 - val_mean_absolute_error: 429.5697\n",
            "Epoch 14/45\n",
            "41/46 [=========================>....] - ETA: 0s - loss: 460.8817 - mean_absolute_error: 460.8817\n",
            "Epoch 14: val_loss did not improve from 408.86786\n",
            "46/46 [==============================] - 0s 6ms/step - loss: 462.6265 - mean_absolute_error: 462.6265 - val_loss: 411.6360 - val_mean_absolute_error: 411.6360\n",
            "Epoch 15/45\n",
            "43/46 [===========================>..] - ETA: 0s - loss: 460.8914 - mean_absolute_error: 460.8914\n",
            "Epoch 15: val_loss did not improve from 408.86786\n",
            "46/46 [==============================] - 0s 6ms/step - loss: 461.9006 - mean_absolute_error: 461.9006 - val_loss: 433.4560 - val_mean_absolute_error: 433.4560\n",
            "Epoch 16/45\n",
            "40/46 [=========================>....] - ETA: 0s - loss: 459.7445 - mean_absolute_error: 459.7445\n",
            "Epoch 16: val_loss did not improve from 408.86786\n",
            "46/46 [==============================] - 0s 7ms/step - loss: 459.6166 - mean_absolute_error: 459.6166 - val_loss: 419.2626 - val_mean_absolute_error: 419.2626\n",
            "Epoch 17/45\n",
            "39/46 [========================>.....] - ETA: 0s - loss: 461.5227 - mean_absolute_error: 461.5227\n",
            "Epoch 17: val_loss did not improve from 408.86786\n",
            "46/46 [==============================] - 0s 6ms/step - loss: 461.4192 - mean_absolute_error: 461.4192 - val_loss: 416.1730 - val_mean_absolute_error: 416.1730\n",
            "Epoch 18/45\n",
            "43/46 [===========================>..] - ETA: 0s - loss: 460.3008 - mean_absolute_error: 460.3008\n",
            "Epoch 18: val_loss did not improve from 408.86786\n",
            "46/46 [==============================] - 0s 6ms/step - loss: 461.7086 - mean_absolute_error: 461.7086 - val_loss: 420.0809 - val_mean_absolute_error: 420.0809\n",
            "Epoch 19/45\n",
            "46/46 [==============================] - ETA: 0s - loss: 458.8754 - mean_absolute_error: 458.8754\n",
            "Epoch 19: val_loss did not improve from 408.86786\n",
            "46/46 [==============================] - 0s 6ms/step - loss: 458.8754 - mean_absolute_error: 458.8754 - val_loss: 457.1611 - val_mean_absolute_error: 457.1611\n",
            "Epoch 20/45\n",
            "43/46 [===========================>..] - ETA: 0s - loss: 460.0198 - mean_absolute_error: 460.0198\n",
            "Epoch 20: val_loss did not improve from 408.86786\n",
            "46/46 [==============================] - 0s 6ms/step - loss: 459.3954 - mean_absolute_error: 459.3954 - val_loss: 541.6385 - val_mean_absolute_error: 541.6385\n",
            "Epoch 21/45\n",
            "36/46 [======================>.......] - ETA: 0s - loss: 465.3237 - mean_absolute_error: 465.3237\n",
            "Epoch 21: val_loss improved from 408.86786 to 398.73193, saving model to Weights-021--398.73193.hdf5\n",
            "46/46 [==============================] - 0s 6ms/step - loss: 465.2251 - mean_absolute_error: 465.2251 - val_loss: 398.7319 - val_mean_absolute_error: 398.7319\n",
            "Epoch 22/45\n",
            "45/46 [============================>.] - ETA: 0s - loss: 458.1972 - mean_absolute_error: 458.1972\n",
            "Epoch 22: val_loss did not improve from 398.73193\n",
            "46/46 [==============================] - 0s 6ms/step - loss: 456.7338 - mean_absolute_error: 456.7338 - val_loss: 422.6436 - val_mean_absolute_error: 422.6436\n",
            "Epoch 23/45\n",
            "46/46 [==============================] - ETA: 0s - loss: 459.9961 - mean_absolute_error: 459.9961\n",
            "Epoch 23: val_loss did not improve from 398.73193\n",
            "46/46 [==============================] - 0s 6ms/step - loss: 459.9961 - mean_absolute_error: 459.9961 - val_loss: 451.8057 - val_mean_absolute_error: 451.8057\n",
            "Epoch 24/45\n",
            "44/46 [===========================>..] - ETA: 0s - loss: 461.1699 - mean_absolute_error: 461.1699\n",
            "Epoch 24: val_loss did not improve from 398.73193\n",
            "46/46 [==============================] - 0s 6ms/step - loss: 462.2920 - mean_absolute_error: 462.2920 - val_loss: 425.2191 - val_mean_absolute_error: 425.2191\n",
            "Epoch 25/45\n",
            "43/46 [===========================>..] - ETA: 0s - loss: 468.2102 - mean_absolute_error: 468.2102\n",
            "Epoch 25: val_loss did not improve from 398.73193\n",
            "46/46 [==============================] - 0s 7ms/step - loss: 466.9862 - mean_absolute_error: 466.9862 - val_loss: 431.9499 - val_mean_absolute_error: 431.9499\n",
            "Epoch 26/45\n",
            "37/46 [=======================>......] - ETA: 0s - loss: 452.4552 - mean_absolute_error: 452.4552\n",
            "Epoch 26: val_loss did not improve from 398.73193\n",
            "46/46 [==============================] - 0s 5ms/step - loss: 458.1107 - mean_absolute_error: 458.1107 - val_loss: 407.3381 - val_mean_absolute_error: 407.3381\n",
            "Epoch 27/45\n",
            "45/46 [============================>.] - ETA: 0s - loss: 457.3392 - mean_absolute_error: 457.3392\n",
            "Epoch 27: val_loss did not improve from 398.73193\n",
            "46/46 [==============================] - 0s 6ms/step - loss: 457.4254 - mean_absolute_error: 457.4254 - val_loss: 407.8069 - val_mean_absolute_error: 407.8069\n",
            "Epoch 28/45\n",
            "42/46 [==========================>...] - ETA: 0s - loss: 453.5217 - mean_absolute_error: 453.5217\n",
            "Epoch 28: val_loss did not improve from 398.73193\n",
            "46/46 [==============================] - 0s 6ms/step - loss: 456.9726 - mean_absolute_error: 456.9726 - val_loss: 449.9919 - val_mean_absolute_error: 449.9919\n",
            "Epoch 29/45\n",
            "43/46 [===========================>..] - ETA: 0s - loss: 459.1014 - mean_absolute_error: 459.1014\n",
            "Epoch 29: val_loss did not improve from 398.73193\n",
            "46/46 [==============================] - 0s 6ms/step - loss: 455.9893 - mean_absolute_error: 455.9893 - val_loss: 443.5351 - val_mean_absolute_error: 443.5351\n",
            "Epoch 30/45\n",
            "40/46 [=========================>....] - ETA: 0s - loss: 458.5296 - mean_absolute_error: 458.5296\n",
            "Epoch 30: val_loss did not improve from 398.73193\n",
            "46/46 [==============================] - 0s 6ms/step - loss: 458.9656 - mean_absolute_error: 458.9656 - val_loss: 495.9942 - val_mean_absolute_error: 495.9942\n",
            "Epoch 31/45\n",
            "39/46 [========================>.....] - ETA: 0s - loss: 453.4749 - mean_absolute_error: 453.4749\n",
            "Epoch 31: val_loss did not improve from 398.73193\n",
            "46/46 [==============================] - 0s 5ms/step - loss: 455.3865 - mean_absolute_error: 455.3865 - val_loss: 405.5380 - val_mean_absolute_error: 405.5380\n",
            "Epoch 32/45\n",
            "43/46 [===========================>..] - ETA: 0s - loss: 450.9860 - mean_absolute_error: 450.9860\n",
            "Epoch 32: val_loss did not improve from 398.73193\n",
            "46/46 [==============================] - 0s 5ms/step - loss: 453.2476 - mean_absolute_error: 453.2476 - val_loss: 439.6287 - val_mean_absolute_error: 439.6287\n",
            "Epoch 33/45\n",
            "41/46 [=========================>....] - ETA: 0s - loss: 457.7831 - mean_absolute_error: 457.7831\n",
            "Epoch 33: val_loss did not improve from 398.73193\n",
            "46/46 [==============================] - 0s 5ms/step - loss: 458.9735 - mean_absolute_error: 458.9735 - val_loss: 456.0117 - val_mean_absolute_error: 456.0117\n",
            "Epoch 34/45\n",
            "42/46 [==========================>...] - ETA: 0s - loss: 457.4690 - mean_absolute_error: 457.4690\n",
            "Epoch 34: val_loss did not improve from 398.73193\n",
            "46/46 [==============================] - 0s 5ms/step - loss: 458.2737 - mean_absolute_error: 458.2737 - val_loss: 406.1029 - val_mean_absolute_error: 406.1029\n",
            "Epoch 35/45\n",
            "40/46 [=========================>....] - ETA: 0s - loss: 453.0755 - mean_absolute_error: 453.0755\n",
            "Epoch 35: val_loss did not improve from 398.73193\n",
            "46/46 [==============================] - 0s 7ms/step - loss: 455.2332 - mean_absolute_error: 455.2332 - val_loss: 411.3641 - val_mean_absolute_error: 411.3641\n",
            "Epoch 36/45\n",
            "46/46 [==============================] - ETA: 0s - loss: 455.5984 - mean_absolute_error: 455.5984\n",
            "Epoch 36: val_loss improved from 398.73193 to 396.22794, saving model to Weights-036--396.22794.hdf5\n",
            "46/46 [==============================] - 0s 8ms/step - loss: 455.5984 - mean_absolute_error: 455.5984 - val_loss: 396.2279 - val_mean_absolute_error: 396.2279\n",
            "Epoch 37/45\n",
            "35/46 [=====================>........] - ETA: 0s - loss: 453.2599 - mean_absolute_error: 453.2599\n",
            "Epoch 37: val_loss did not improve from 396.22794\n",
            "46/46 [==============================] - 0s 6ms/step - loss: 456.0457 - mean_absolute_error: 456.0457 - val_loss: 432.8254 - val_mean_absolute_error: 432.8254\n",
            "Epoch 38/45\n",
            "41/46 [=========================>....] - ETA: 0s - loss: 451.4905 - mean_absolute_error: 451.4905\n",
            "Epoch 38: val_loss did not improve from 396.22794\n",
            "46/46 [==============================] - 0s 7ms/step - loss: 452.8377 - mean_absolute_error: 452.8377 - val_loss: 438.1965 - val_mean_absolute_error: 438.1965\n",
            "Epoch 39/45\n",
            "45/46 [============================>.] - ETA: 0s - loss: 458.8952 - mean_absolute_error: 458.8952\n",
            "Epoch 39: val_loss did not improve from 396.22794\n",
            "46/46 [==============================] - 0s 7ms/step - loss: 456.8652 - mean_absolute_error: 456.8652 - val_loss: 425.2064 - val_mean_absolute_error: 425.2064\n",
            "Epoch 40/45\n",
            "40/46 [=========================>....] - ETA: 0s - loss: 458.4286 - mean_absolute_error: 458.4286\n",
            "Epoch 40: val_loss did not improve from 396.22794\n",
            "46/46 [==============================] - 0s 6ms/step - loss: 460.8981 - mean_absolute_error: 460.8981 - val_loss: 458.7197 - val_mean_absolute_error: 458.7197\n",
            "Epoch 41/45\n",
            "37/46 [=======================>......] - ETA: 0s - loss: 456.0460 - mean_absolute_error: 456.0460\n",
            "Epoch 41: val_loss did not improve from 396.22794\n",
            "46/46 [==============================] - 0s 5ms/step - loss: 457.2038 - mean_absolute_error: 457.2038 - val_loss: 427.6554 - val_mean_absolute_error: 427.6554\n",
            "Epoch 42/45\n",
            "40/46 [=========================>....] - ETA: 0s - loss: 458.3446 - mean_absolute_error: 458.3446\n",
            "Epoch 42: val_loss did not improve from 396.22794\n",
            "46/46 [==============================] - 0s 5ms/step - loss: 456.3206 - mean_absolute_error: 456.3206 - val_loss: 460.2754 - val_mean_absolute_error: 460.2754\n",
            "Epoch 43/45\n",
            "41/46 [=========================>....] - ETA: 0s - loss: 451.5636 - mean_absolute_error: 451.5636\n",
            "Epoch 43: val_loss improved from 396.22794 to 392.80679, saving model to Weights-043--392.80679.hdf5\n",
            "46/46 [==============================] - 0s 5ms/step - loss: 453.1333 - mean_absolute_error: 453.1333 - val_loss: 392.8068 - val_mean_absolute_error: 392.8068\n",
            "Epoch 44/45\n",
            "41/46 [=========================>....] - ETA: 0s - loss: 451.3586 - mean_absolute_error: 451.3586\n",
            "Epoch 44: val_loss did not improve from 392.80679\n",
            "46/46 [==============================] - 0s 5ms/step - loss: 454.2293 - mean_absolute_error: 454.2293 - val_loss: 521.8157 - val_mean_absolute_error: 521.8157\n",
            "Epoch 45/45\n",
            "42/46 [==========================>...] - ETA: 0s - loss: 450.4798 - mean_absolute_error: 450.4798\n",
            "Epoch 45: val_loss did not improve from 392.80679\n",
            "46/46 [==============================] - 0s 5ms/step - loss: 452.6015 - mean_absolute_error: 452.6015 - val_loss: 429.2943 - val_mean_absolute_error: 429.2943\n"
          ]
        },
        {
          "output_type": "execute_result",
          "data": {
            "text/plain": [
              "<keras.callbacks.History at 0x7f8a313ff790>"
            ]
          },
          "metadata": {},
          "execution_count": 25
        }
      ],
      "source": [
        "NN_model.fit(training, training_target, epochs=45, batch_size=32, validation_split = 0.2, callbacks=callbacks_list)"
      ]
    },
    {
      "cell_type": "code",
      "execution_count": 27,
      "metadata": {
        "id": "2L7Gy2lnvGuR"
      },
      "outputs": [],
      "source": [
        "# Load wights file of the best model :\n",
        "wights_file = 'Weights-043--392.80679.hdf5' # choose the best checkpoint \n",
        "NN_model.load_weights(wights_file) # load it\n",
        "NN_model.compile(loss='mean_absolute_error', optimizer='adam', metrics=['mean_absolute_error'])"
      ]
    },
    {
      "cell_type": "code",
      "execution_count": 28,
      "metadata": {
        "id": "8fQH0A6kvJBJ",
        "colab": {
          "base_uri": "https://localhost:8080/"
        },
        "outputId": "dc142b19-2d7b-4df6-c481-3bf675b57603"
      },
      "outputs": [
        {
          "output_type": "execute_result",
          "data": {
            "text/plain": [
              "0.02933669984218623"
            ]
          },
          "metadata": {},
          "execution_count": 28
        }
      ],
      "source": [
        "y_predicted_nn = NN_model.predict(training)\n",
        "r2_training_nn = r2_score(training_target, y_predicted_nn)\n",
        "r2_training_nn"
      ]
    },
    {
      "cell_type": "code",
      "execution_count": 29,
      "metadata": {
        "id": "7jhO5kd8vK63",
        "colab": {
          "base_uri": "https://localhost:8080/"
        },
        "outputId": "d52c6373-5e5d-48c1-e0f4-52aaa5fd84a1"
      },
      "outputs": [
        {
          "output_type": "execute_result",
          "data": {
            "text/plain": [
              "-0.07003240114827403"
            ]
          },
          "metadata": {},
          "execution_count": 29
        }
      ],
      "source": [
        "y_validation_nn = NN_model.predict(validation)\n",
        "r2_validation_nn = r2_score(validation_target, y_validation_nn)\n",
        "r2_validation_nn"
      ]
    },
    {
      "cell_type": "code",
      "execution_count": 30,
      "metadata": {
        "id": "CO3eZUWFvQHB",
        "colab": {
          "base_uri": "https://localhost:8080/"
        },
        "outputId": "e5f0b441-0318-4757-9aab-c5d2f31cba35"
      },
      "outputs": [
        {
          "output_type": "execute_result",
          "data": {
            "text/plain": [
              "0.09936910099046026"
            ]
          },
          "metadata": {},
          "execution_count": 30
        }
      ],
      "source": [
        "r2_training_nn-r2_validation_nn"
      ]
    },
    {
      "cell_type": "markdown",
      "metadata": {
        "id": "V6pNm7ZmvVBl"
      },
      "source": [
        "# Modelo Ganador\n",
        "\n",
        "Se escogio el modelo que usa Redes Neuronales con Regresión\n",
        "\n",
        "Se hacen las predicciones para antes del 2017 y para el 2018 "
      ]
    },
    {
      "cell_type": "code",
      "source": [
        "y_predicted_2012_2017_nn = NN_model.predict(predict_2012_2017)\n",
        "df_2012_2017['Prediccion_NN'] = y_predicted_2012_2017_nn\n",
        "df_2012_2017"
      ],
      "metadata": {
        "colab": {
          "base_uri": "https://localhost:8080/",
          "height": 424
        },
        "id": "DJn-joPwTe2j",
        "outputId": "ea66aae3-7d58-4593-f0cf-3c1fd7c72268"
      },
      "execution_count": 44,
      "outputs": [
        {
          "output_type": "execute_result",
          "data": {
            "text/plain": [
              "          Fecha  Prediccion_NN\n",
              "0    2012-01-01     732.432495\n",
              "1    2012-01-02     737.939087\n",
              "2    2012-01-03     743.673706\n",
              "3    2012-01-04     749.709473\n",
              "4    2012-01-05     755.876709\n",
              "...         ...            ...\n",
              "2187 2017-12-27     958.589844\n",
              "2188 2017-12-28     965.412048\n",
              "2189 2017-12-29     972.234253\n",
              "2190 2017-12-30     979.056335\n",
              "2191 2017-12-31     985.878601\n",
              "\n",
              "[2192 rows x 2 columns]"
            ],
            "text/html": [
              "\n",
              "  <div id=\"df-00be2523-1f8e-4505-ba58-ca7891cb1ca4\">\n",
              "    <div class=\"colab-df-container\">\n",
              "      <div>\n",
              "<style scoped>\n",
              "    .dataframe tbody tr th:only-of-type {\n",
              "        vertical-align: middle;\n",
              "    }\n",
              "\n",
              "    .dataframe tbody tr th {\n",
              "        vertical-align: top;\n",
              "    }\n",
              "\n",
              "    .dataframe thead th {\n",
              "        text-align: right;\n",
              "    }\n",
              "</style>\n",
              "<table border=\"1\" class=\"dataframe\">\n",
              "  <thead>\n",
              "    <tr style=\"text-align: right;\">\n",
              "      <th></th>\n",
              "      <th>Fecha</th>\n",
              "      <th>Prediccion_NN</th>\n",
              "    </tr>\n",
              "  </thead>\n",
              "  <tbody>\n",
              "    <tr>\n",
              "      <th>0</th>\n",
              "      <td>2012-01-01</td>\n",
              "      <td>732.432495</td>\n",
              "    </tr>\n",
              "    <tr>\n",
              "      <th>1</th>\n",
              "      <td>2012-01-02</td>\n",
              "      <td>737.939087</td>\n",
              "    </tr>\n",
              "    <tr>\n",
              "      <th>2</th>\n",
              "      <td>2012-01-03</td>\n",
              "      <td>743.673706</td>\n",
              "    </tr>\n",
              "    <tr>\n",
              "      <th>3</th>\n",
              "      <td>2012-01-04</td>\n",
              "      <td>749.709473</td>\n",
              "    </tr>\n",
              "    <tr>\n",
              "      <th>4</th>\n",
              "      <td>2012-01-05</td>\n",
              "      <td>755.876709</td>\n",
              "    </tr>\n",
              "    <tr>\n",
              "      <th>...</th>\n",
              "      <td>...</td>\n",
              "      <td>...</td>\n",
              "    </tr>\n",
              "    <tr>\n",
              "      <th>2187</th>\n",
              "      <td>2017-12-27</td>\n",
              "      <td>958.589844</td>\n",
              "    </tr>\n",
              "    <tr>\n",
              "      <th>2188</th>\n",
              "      <td>2017-12-28</td>\n",
              "      <td>965.412048</td>\n",
              "    </tr>\n",
              "    <tr>\n",
              "      <th>2189</th>\n",
              "      <td>2017-12-29</td>\n",
              "      <td>972.234253</td>\n",
              "    </tr>\n",
              "    <tr>\n",
              "      <th>2190</th>\n",
              "      <td>2017-12-30</td>\n",
              "      <td>979.056335</td>\n",
              "    </tr>\n",
              "    <tr>\n",
              "      <th>2191</th>\n",
              "      <td>2017-12-31</td>\n",
              "      <td>985.878601</td>\n",
              "    </tr>\n",
              "  </tbody>\n",
              "</table>\n",
              "<p>2192 rows × 2 columns</p>\n",
              "</div>\n",
              "      <button class=\"colab-df-convert\" onclick=\"convertToInteractive('df-00be2523-1f8e-4505-ba58-ca7891cb1ca4')\"\n",
              "              title=\"Convert this dataframe to an interactive table.\"\n",
              "              style=\"display:none;\">\n",
              "        \n",
              "  <svg xmlns=\"http://www.w3.org/2000/svg\" height=\"24px\"viewBox=\"0 0 24 24\"\n",
              "       width=\"24px\">\n",
              "    <path d=\"M0 0h24v24H0V0z\" fill=\"none\"/>\n",
              "    <path d=\"M18.56 5.44l.94 2.06.94-2.06 2.06-.94-2.06-.94-.94-2.06-.94 2.06-2.06.94zm-11 1L8.5 8.5l.94-2.06 2.06-.94-2.06-.94L8.5 2.5l-.94 2.06-2.06.94zm10 10l.94 2.06.94-2.06 2.06-.94-2.06-.94-.94-2.06-.94 2.06-2.06.94z\"/><path d=\"M17.41 7.96l-1.37-1.37c-.4-.4-.92-.59-1.43-.59-.52 0-1.04.2-1.43.59L10.3 9.45l-7.72 7.72c-.78.78-.78 2.05 0 2.83L4 21.41c.39.39.9.59 1.41.59.51 0 1.02-.2 1.41-.59l7.78-7.78 2.81-2.81c.8-.78.8-2.07 0-2.86zM5.41 20L4 18.59l7.72-7.72 1.47 1.35L5.41 20z\"/>\n",
              "  </svg>\n",
              "      </button>\n",
              "      \n",
              "  <style>\n",
              "    .colab-df-container {\n",
              "      display:flex;\n",
              "      flex-wrap:wrap;\n",
              "      gap: 12px;\n",
              "    }\n",
              "\n",
              "    .colab-df-convert {\n",
              "      background-color: #E8F0FE;\n",
              "      border: none;\n",
              "      border-radius: 50%;\n",
              "      cursor: pointer;\n",
              "      display: none;\n",
              "      fill: #1967D2;\n",
              "      height: 32px;\n",
              "      padding: 0 0 0 0;\n",
              "      width: 32px;\n",
              "    }\n",
              "\n",
              "    .colab-df-convert:hover {\n",
              "      background-color: #E2EBFA;\n",
              "      box-shadow: 0px 1px 2px rgba(60, 64, 67, 0.3), 0px 1px 3px 1px rgba(60, 64, 67, 0.15);\n",
              "      fill: #174EA6;\n",
              "    }\n",
              "\n",
              "    [theme=dark] .colab-df-convert {\n",
              "      background-color: #3B4455;\n",
              "      fill: #D2E3FC;\n",
              "    }\n",
              "\n",
              "    [theme=dark] .colab-df-convert:hover {\n",
              "      background-color: #434B5C;\n",
              "      box-shadow: 0px 1px 3px 1px rgba(0, 0, 0, 0.15);\n",
              "      filter: drop-shadow(0px 1px 2px rgba(0, 0, 0, 0.3));\n",
              "      fill: #FFFFFF;\n",
              "    }\n",
              "  </style>\n",
              "\n",
              "      <script>\n",
              "        const buttonEl =\n",
              "          document.querySelector('#df-00be2523-1f8e-4505-ba58-ca7891cb1ca4 button.colab-df-convert');\n",
              "        buttonEl.style.display =\n",
              "          google.colab.kernel.accessAllowed ? 'block' : 'none';\n",
              "\n",
              "        async function convertToInteractive(key) {\n",
              "          const element = document.querySelector('#df-00be2523-1f8e-4505-ba58-ca7891cb1ca4');\n",
              "          const dataTable =\n",
              "            await google.colab.kernel.invokeFunction('convertToInteractive',\n",
              "                                                     [key], {});\n",
              "          if (!dataTable) return;\n",
              "\n",
              "          const docLinkHtml = 'Like what you see? Visit the ' +\n",
              "            '<a target=\"_blank\" href=https://colab.research.google.com/notebooks/data_table.ipynb>data table notebook</a>'\n",
              "            + ' to learn more about interactive tables.';\n",
              "          element.innerHTML = '';\n",
              "          dataTable['output_type'] = 'display_data';\n",
              "          await google.colab.output.renderOutput(dataTable, element);\n",
              "          const docLink = document.createElement('div');\n",
              "          docLink.innerHTML = docLinkHtml;\n",
              "          element.appendChild(docLink);\n",
              "        }\n",
              "      </script>\n",
              "    </div>\n",
              "  </div>\n",
              "  "
            ]
          },
          "metadata": {},
          "execution_count": 44
        }
      ]
    },
    {
      "cell_type": "markdown",
      "source": [
        "Los valores para el 2018 con este modelo:"
      ],
      "metadata": {
        "id": "CAdxjoRWxbcc"
      }
    },
    {
      "cell_type": "code",
      "execution_count": 46,
      "metadata": {
        "id": "Ob6zsi69vSBn",
        "colab": {
          "base_uri": "https://localhost:8080/",
          "height": 424
        },
        "outputId": "fda11e7c-62b8-44f8-c10d-177fe2a1f031"
      },
      "outputs": [
        {
          "output_type": "execute_result",
          "data": {
            "text/plain": [
              "         Fecha  Prediccion_NN\n",
              "0   2018-01-01     734.587585\n",
              "1   2018-01-02     740.092346\n",
              "2   2018-01-03     745.827026\n",
              "3   2018-01-04     751.857666\n",
              "4   2018-01-05     758.024963\n",
              "..         ...            ...\n",
              "176 2018-06-26     923.908752\n",
              "177 2018-06-27     930.730896\n",
              "178 2018-06-28     937.553040\n",
              "179 2018-06-29     944.375183\n",
              "180 2018-06-30     951.197449\n",
              "\n",
              "[181 rows x 2 columns]"
            ],
            "text/html": [
              "\n",
              "  <div id=\"df-71b0a1e3-4cde-487d-b919-3694d9e15beb\">\n",
              "    <div class=\"colab-df-container\">\n",
              "      <div>\n",
              "<style scoped>\n",
              "    .dataframe tbody tr th:only-of-type {\n",
              "        vertical-align: middle;\n",
              "    }\n",
              "\n",
              "    .dataframe tbody tr th {\n",
              "        vertical-align: top;\n",
              "    }\n",
              "\n",
              "    .dataframe thead th {\n",
              "        text-align: right;\n",
              "    }\n",
              "</style>\n",
              "<table border=\"1\" class=\"dataframe\">\n",
              "  <thead>\n",
              "    <tr style=\"text-align: right;\">\n",
              "      <th></th>\n",
              "      <th>Fecha</th>\n",
              "      <th>Prediccion_NN</th>\n",
              "    </tr>\n",
              "  </thead>\n",
              "  <tbody>\n",
              "    <tr>\n",
              "      <th>0</th>\n",
              "      <td>2018-01-01</td>\n",
              "      <td>734.587585</td>\n",
              "    </tr>\n",
              "    <tr>\n",
              "      <th>1</th>\n",
              "      <td>2018-01-02</td>\n",
              "      <td>740.092346</td>\n",
              "    </tr>\n",
              "    <tr>\n",
              "      <th>2</th>\n",
              "      <td>2018-01-03</td>\n",
              "      <td>745.827026</td>\n",
              "    </tr>\n",
              "    <tr>\n",
              "      <th>3</th>\n",
              "      <td>2018-01-04</td>\n",
              "      <td>751.857666</td>\n",
              "    </tr>\n",
              "    <tr>\n",
              "      <th>4</th>\n",
              "      <td>2018-01-05</td>\n",
              "      <td>758.024963</td>\n",
              "    </tr>\n",
              "    <tr>\n",
              "      <th>...</th>\n",
              "      <td>...</td>\n",
              "      <td>...</td>\n",
              "    </tr>\n",
              "    <tr>\n",
              "      <th>176</th>\n",
              "      <td>2018-06-26</td>\n",
              "      <td>923.908752</td>\n",
              "    </tr>\n",
              "    <tr>\n",
              "      <th>177</th>\n",
              "      <td>2018-06-27</td>\n",
              "      <td>930.730896</td>\n",
              "    </tr>\n",
              "    <tr>\n",
              "      <th>178</th>\n",
              "      <td>2018-06-28</td>\n",
              "      <td>937.553040</td>\n",
              "    </tr>\n",
              "    <tr>\n",
              "      <th>179</th>\n",
              "      <td>2018-06-29</td>\n",
              "      <td>944.375183</td>\n",
              "    </tr>\n",
              "    <tr>\n",
              "      <th>180</th>\n",
              "      <td>2018-06-30</td>\n",
              "      <td>951.197449</td>\n",
              "    </tr>\n",
              "  </tbody>\n",
              "</table>\n",
              "<p>181 rows × 2 columns</p>\n",
              "</div>\n",
              "      <button class=\"colab-df-convert\" onclick=\"convertToInteractive('df-71b0a1e3-4cde-487d-b919-3694d9e15beb')\"\n",
              "              title=\"Convert this dataframe to an interactive table.\"\n",
              "              style=\"display:none;\">\n",
              "        \n",
              "  <svg xmlns=\"http://www.w3.org/2000/svg\" height=\"24px\"viewBox=\"0 0 24 24\"\n",
              "       width=\"24px\">\n",
              "    <path d=\"M0 0h24v24H0V0z\" fill=\"none\"/>\n",
              "    <path d=\"M18.56 5.44l.94 2.06.94-2.06 2.06-.94-2.06-.94-.94-2.06-.94 2.06-2.06.94zm-11 1L8.5 8.5l.94-2.06 2.06-.94-2.06-.94L8.5 2.5l-.94 2.06-2.06.94zm10 10l.94 2.06.94-2.06 2.06-.94-2.06-.94-.94-2.06-.94 2.06-2.06.94z\"/><path d=\"M17.41 7.96l-1.37-1.37c-.4-.4-.92-.59-1.43-.59-.52 0-1.04.2-1.43.59L10.3 9.45l-7.72 7.72c-.78.78-.78 2.05 0 2.83L4 21.41c.39.39.9.59 1.41.59.51 0 1.02-.2 1.41-.59l7.78-7.78 2.81-2.81c.8-.78.8-2.07 0-2.86zM5.41 20L4 18.59l7.72-7.72 1.47 1.35L5.41 20z\"/>\n",
              "  </svg>\n",
              "      </button>\n",
              "      \n",
              "  <style>\n",
              "    .colab-df-container {\n",
              "      display:flex;\n",
              "      flex-wrap:wrap;\n",
              "      gap: 12px;\n",
              "    }\n",
              "\n",
              "    .colab-df-convert {\n",
              "      background-color: #E8F0FE;\n",
              "      border: none;\n",
              "      border-radius: 50%;\n",
              "      cursor: pointer;\n",
              "      display: none;\n",
              "      fill: #1967D2;\n",
              "      height: 32px;\n",
              "      padding: 0 0 0 0;\n",
              "      width: 32px;\n",
              "    }\n",
              "\n",
              "    .colab-df-convert:hover {\n",
              "      background-color: #E2EBFA;\n",
              "      box-shadow: 0px 1px 2px rgba(60, 64, 67, 0.3), 0px 1px 3px 1px rgba(60, 64, 67, 0.15);\n",
              "      fill: #174EA6;\n",
              "    }\n",
              "\n",
              "    [theme=dark] .colab-df-convert {\n",
              "      background-color: #3B4455;\n",
              "      fill: #D2E3FC;\n",
              "    }\n",
              "\n",
              "    [theme=dark] .colab-df-convert:hover {\n",
              "      background-color: #434B5C;\n",
              "      box-shadow: 0px 1px 3px 1px rgba(0, 0, 0, 0.15);\n",
              "      filter: drop-shadow(0px 1px 2px rgba(0, 0, 0, 0.3));\n",
              "      fill: #FFFFFF;\n",
              "    }\n",
              "  </style>\n",
              "\n",
              "      <script>\n",
              "        const buttonEl =\n",
              "          document.querySelector('#df-71b0a1e3-4cde-487d-b919-3694d9e15beb button.colab-df-convert');\n",
              "        buttonEl.style.display =\n",
              "          google.colab.kernel.accessAllowed ? 'block' : 'none';\n",
              "\n",
              "        async function convertToInteractive(key) {\n",
              "          const element = document.querySelector('#df-71b0a1e3-4cde-487d-b919-3694d9e15beb');\n",
              "          const dataTable =\n",
              "            await google.colab.kernel.invokeFunction('convertToInteractive',\n",
              "                                                     [key], {});\n",
              "          if (!dataTable) return;\n",
              "\n",
              "          const docLinkHtml = 'Like what you see? Visit the ' +\n",
              "            '<a target=\"_blank\" href=https://colab.research.google.com/notebooks/data_table.ipynb>data table notebook</a>'\n",
              "            + ' to learn more about interactive tables.';\n",
              "          element.innerHTML = '';\n",
              "          dataTable['output_type'] = 'display_data';\n",
              "          await google.colab.output.renderOutput(dataTable, element);\n",
              "          const docLink = document.createElement('div');\n",
              "          docLink.innerHTML = docLinkHtml;\n",
              "          element.appendChild(docLink);\n",
              "        }\n",
              "      </script>\n",
              "    </div>\n",
              "  </div>\n",
              "  "
            ]
          },
          "metadata": {},
          "execution_count": 46
        }
      ],
      "source": [
        "y_predicted_2018_nn = NN_model.predict(predict_2018)\n",
        "df_2018['Prediccion_NN'] = y_predicted_2018_nn\n",
        "df_2018"
      ]
    },
    {
      "cell_type": "markdown",
      "source": [
        "Se exportan los datos a los archivos predict_2018.csv y predict_2012_2017.csv"
      ],
      "metadata": {
        "id": "VRPgXi_wTRBu"
      }
    },
    {
      "cell_type": "code",
      "source": [
        "df_2018.to_csv('predict_2018.csv', index=False)\n",
        "df_2012_2017.to_csv('predict_2012_2017.csv', index=False)\n"
      ],
      "metadata": {
        "id": "yPHn8SAm6ocG"
      },
      "execution_count": 47,
      "outputs": []
    }
  ],
  "metadata": {
    "colab": {
      "collapsed_sections": [],
      "name": "TAE Trabajo #4.ipynb",
      "provenance": []
    },
    "kernelspec": {
      "display_name": "Python 3",
      "name": "python3"
    },
    "language_info": {
      "name": "python"
    }
  },
  "nbformat": 4,
  "nbformat_minor": 0
}